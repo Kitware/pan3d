{
 "cells": [
  {
   "cell_type": "code",
   "execution_count": 1,
   "id": "0a67097d-b562-444a-8c2c-ea383d46fa48",
   "metadata": {},
   "outputs": [
    {
     "name": "stderr",
     "output_type": "stream",
     "text": [
      "/Users/sebastien.jourdain/Documents/code/sbir/pan3d/.venv/lib/python3.10/site-packages/xarray/conventions.py:287: SerializationWarning: variable 'z' has non-conforming '_FillValue' np.float64(nan) defined, dropping '_FillValue' entirely.\n",
      "  var = coder.decode(var, name=name)\n",
      "/Users/sebastien.jourdain/Documents/code/sbir/pan3d/.venv/lib/python3.10/site-packages/xarray/conventions.py:287: SerializationWarning: variable 'u' has non-conforming '_FillValue' np.float64(nan) defined, dropping '_FillValue' entirely.\n",
      "  var = coder.decode(var, name=name)\n",
      "/Users/sebastien.jourdain/Documents/code/sbir/pan3d/.venv/lib/python3.10/site-packages/xarray/conventions.py:287: SerializationWarning: variable 'v' has non-conforming '_FillValue' np.float64(nan) defined, dropping '_FillValue' entirely.\n",
      "  var = coder.decode(var, name=name)\n"
     ]
    }
   ],
   "source": [
    "import xarray as xr\n",
    "\n",
    "ds = xr.tutorial.load_dataset(\"eraint_uvz\")"
   ]
  },
  {
   "cell_type": "markdown",
   "id": "2bb6f93d-0005-4734-9af1-3db0ace2533b",
   "metadata": {},
   "source": [
    "## Use XArray dataset accessor"
   ]
  },
  {
   "cell_type": "code",
   "execution_count": 2,
   "id": "9a0c47e0-a635-4c95-8bac-382c4e9ab264",
   "metadata": {},
   "outputs": [],
   "source": [
    "slicer = ds.pan3d.slicer"
   ]
  },
  {
   "cell_type": "code",
   "execution_count": 3,
   "id": "84f3a34a-4d6b-4b64-b7a1-2cde5505672f",
   "metadata": {},
   "outputs": [
    {
     "data": {
      "application/vnd.jupyter.widget-view+json": {
       "model_id": "07124cd9886a4e8d82550fed74222412",
       "version_major": 2,
       "version_minor": 0
      },
      "text/plain": [
       "HTML(value='<iframe id=\"pan3d_accessor_1_trame__template_main\" src=\"http://localhost:56626/index.html?ui=main&…"
      ]
     },
     "metadata": {},
     "output_type": "display_data"
    }
   ],
   "source": [
    "slicer"
   ]
  },
  {
   "cell_type": "code",
   "execution_count": 4,
   "id": "c848393f-0022-41c7-b82a-46789b9acc78",
   "metadata": {},
   "outputs": [
    {
     "data": {
      "text/plain": [
       "{'month': 0}"
      ]
     },
     "execution_count": 4,
     "metadata": {},
     "output_type": "execute_result"
    }
   ],
   "source": [
    "slicer.source.slices"
   ]
  },
  {
   "cell_type": "code",
   "execution_count": null,
   "id": "a57244be-f5d0-4cff-a325-e92b968fa025",
   "metadata": {},
   "outputs": [],
   "source": []
  }
 ],
 "metadata": {
  "kernelspec": {
   "display_name": "Python 3 (ipykernel)",
   "language": "python",
   "name": "python3"
  },
  "language_info": {
   "codemirror_mode": {
    "name": "ipython",
    "version": 3
   },
   "file_extension": ".py",
   "mimetype": "text/x-python",
   "name": "python",
   "nbconvert_exporter": "python",
   "pygments_lexer": "ipython3",
   "version": "3.10.15"
  }
 },
 "nbformat": 4,
 "nbformat_minor": 5
}
