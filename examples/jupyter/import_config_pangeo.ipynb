{
 "cells": [
  {
   "cell_type": "code",
   "execution_count": null,
   "id": "bf9da680",
   "metadata": {},
   "outputs": [],
   "source": [
    "import json\n",
    "from pathlib import Path\n",
    "\n",
    "from pan3d.viewers.preview import XArrayViewer"
   ]
  },
  {
   "cell_type": "markdown",
   "id": "7cf49ce5-411e-4ed3-965f-928c93f066ad",
   "metadata": {},
   "source": [
    "## Create Viewer"
   ]
  },
  {
   "cell_type": "code",
   "execution_count": null,
   "id": "f5495d18-f311-4d1a-87ed-6c5bb988deb4",
   "metadata": {},
   "outputs": [],
   "source": [
    "viewer = XArrayViewer(server=\"pangeo-viewer\")\n",
    "await viewer.ui.ready"
   ]
  },
  {
   "cell_type": "markdown",
   "id": "7d9d844d-09bd-4727-a006-a616c2c459a3",
   "metadata": {},
   "source": [
    "## Load dataset"
   ]
  },
  {
   "cell_type": "code",
   "execution_count": null,
   "id": "951ccee5-dd3e-47e0-8218-0eaa12a0f9a8",
   "metadata": {},
   "outputs": [],
   "source": [
    "config = json.loads(Path(\"../example_config_pangeo.json\").read_text())\n",
    "viewer.import_state(config)"
   ]
  },
  {
   "cell_type": "code",
   "execution_count": null,
   "id": "2f052f51-86f1-4b44-bfa9-0c6d75892571",
   "metadata": {},
   "outputs": [],
   "source": [
    "viewer.ui"
   ]
  },
  {
   "cell_type": "code",
   "execution_count": null,
   "id": "3efafa03-df99-4690-9ac9-2ed5920e7205",
   "metadata": {},
   "outputs": [],
   "source": []
  }
 ],
 "metadata": {
  "kernelspec": {
   "display_name": "Python 3 (ipykernel)",
   "language": "python",
   "name": "python3"
  },
  "language_info": {
   "codemirror_mode": {
    "name": "ipython",
    "version": 3
   },
   "file_extension": ".py",
   "mimetype": "text/x-python",
   "name": "python",
   "nbconvert_exporter": "python",
   "pygments_lexer": "ipython3",
   "version": "3.10.15"
  }
 },
 "nbformat": 4,
 "nbformat_minor": 5
}
