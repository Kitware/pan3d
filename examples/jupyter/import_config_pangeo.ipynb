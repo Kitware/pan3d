{
 "cells": [
  {
   "cell_type": "code",
   "execution_count": null,
   "id": "bf9da680",
   "metadata": {},
   "outputs": [],
   "source": [
    "from pan3d import DatasetBuilder"
   ]
  },
  {
   "cell_type": "code",
   "execution_count": null,
   "id": "2f052f51-86f1-4b44-bfa9-0c6d75892571",
   "metadata": {},
   "outputs": [],
   "source": [
    "config_path = '../example_config_pangeo.json'\n",
    "builder = DatasetBuilder(catalogs=['pangeo'])\n",
    "geotrame = builder.viewer\n",
    "\n",
    "builder.import_config(config_path)\n",
    "\n",
    "# Show GeoTrame in cell output\n",
    "await geotrame.ready\n",
    "geotrame.ui\n"
   ]
  }
 ],
 "metadata": {
  "kernelspec": {
   "display_name": "pan3d",
   "language": "python",
   "name": "pan3d"
  },
  "language_info": {
   "codemirror_mode": {
    "name": "ipython",
    "version": 3
   },
   "file_extension": ".py",
   "mimetype": "text/x-python",
   "name": "python",
   "nbconvert_exporter": "python",
   "pygments_lexer": "ipython3",
   "version": "3.9.18"
  }
 },
 "nbformat": 4,
 "nbformat_minor": 5
}
