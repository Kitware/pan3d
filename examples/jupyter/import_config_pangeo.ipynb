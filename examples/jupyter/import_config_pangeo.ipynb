{
 "cells": [
  {
   "cell_type": "markdown",
   "id": "c7a6e13f-537c-4c4c-90dd-c2bff2383ed2",
   "metadata": {},
   "source": [
    "# Example: MITgcm Channel Simulation (Pangeo host)\n",
    "\n",
    "This dataset was produced from the MTI General Circulation Model (MITgcm), a numerical model combining both atmospheric and ocean physics. This particular dataset is a simulation of a flat bottom channel at 2km resolution with time snapshots every 15 days over the course of a year. The xyz coordinates are 500 x 1000 x 76 and the computed variables are temperature, pressure, and 3 components of velocity.\n",
    "\n",
    "The dataset is hosted on Pangeo at https://catalog.pangeo.io/browse/master/ocean/channel/MITgcm_channel_flatbottom_02km_run01_phys_snap15D/.\n",
    "\n",
    "To setup your environment:\n",
    "\n",
    "```\n",
    "> pip install pan3d[viewer,pangeo]\n",
    "```"
   ]
  },
  {
   "cell_type": "code",
   "execution_count": null,
   "id": "bf9da680",
   "metadata": {},
   "outputs": [],
   "source": [
    "import json\n",
    "from pathlib import Path\n",
    "\n",
    "from pan3d.viewers.preview import XArrayViewer"
   ]
  },
  {
   "cell_type": "markdown",
   "id": "7cf49ce5-411e-4ed3-965f-928c93f066ad",
   "metadata": {},
   "source": [
    "## Create Viewer"
   ]
  },
  {
   "cell_type": "code",
   "execution_count": null,
   "id": "f5495d18-f311-4d1a-87ed-6c5bb988deb4",
   "metadata": {},
   "outputs": [],
   "source": [
    "viewer = XArrayViewer(server=\"pangeo-viewer\")\n",
    "await viewer.ui.ready"
   ]
  },
  {
   "cell_type": "markdown",
   "id": "7d9d844d-09bd-4727-a006-a616c2c459a3",
   "metadata": {},
   "source": [
    "## Load dataset - and please be patient!\n",
    "\n",
    "The configuration file is set set to read temperature data. When you run the next cell, it will load one time step and build a 152 MB array for the temperature at that time step. Download times for one time step have been observed on the order of 1 minute. (You can increase the download speed by using a Cloud Billing account to pay egress fees. See the [pangeo catalog page](https://catalog.pangeo.io/browse/master/ocean/channel/MITgcm_channel_flatbottom_02km_run01_phys_snap15D/) for more info) When you run the next cell, check the kernel state in the status bar at the bottom of the notebook and wait for it to go from \"Busy\" to \"Idle\"."
   ]
  },
  {
   "cell_type": "code",
   "execution_count": null,
   "id": "951ccee5-dd3e-47e0-8218-0eaa12a0f9a8",
   "metadata": {},
   "outputs": [],
   "source": [
    "config = json.loads(Path(\"../example_config_pangeo.json\").read_text())\n",
    "viewer.import_state(config)"
   ]
  },
  {
   "cell_type": "markdown",
   "id": "22566858-fdee-4427-8487-b7b033a7fb65",
   "metadata": {},
   "source": [
    "# Start the viewer\n",
    "\n",
    "Run the next cell to open the pan3d viewer."
   ]
  },
  {
   "cell_type": "code",
   "execution_count": null,
   "id": "2f052f51-86f1-4b44-bfa9-0c6d75892571",
   "metadata": {},
   "outputs": [],
   "source": [
    "viewer.ui"
   ]
  },
  {
   "cell_type": "code",
   "execution_count": null,
   "id": "7618fba2-798e-422c-b2ff-47d80c4b8ad0",
   "metadata": {},
   "outputs": [],
   "source": [
    "viewer.source._input"
   ]
  },
  {
   "cell_type": "code",
   "execution_count": null,
   "id": "22115863-c085-4b3e-bad0-a2573cb77b59",
   "metadata": {},
   "outputs": [],
   "source": []
  }
 ],
 "metadata": {
  "kernelspec": {
   "display_name": "Python 3 (ipykernel)",
   "language": "python",
   "name": "python3"
  },
  "language_info": {
   "codemirror_mode": {
    "name": "ipython",
    "version": 3
   },
   "file_extension": ".py",
   "mimetype": "text/x-python",
   "name": "python",
   "nbconvert_exporter": "python",
   "pygments_lexer": "ipython3",
   "version": "3.10.15"
  }
 },
 "nbformat": 4,
 "nbformat_minor": 5
}
