{
 "cells": [
  {
   "cell_type": "code",
   "execution_count": null,
   "id": "fc5f043e-00c4-4a04-8ea7-096ed987ea33",
   "metadata": {},
   "outputs": [],
   "source": [
    "# Initialize the vtk xarray algorithm using an existing example configuration\n",
    "from pathlib import Path\n",
    "import json\n",
    "from pan3d.xarray.algorithm import vtkXArrayRectilinearSource\n",
    "\n",
    "config_path = Path('../example_config_xarray.json')\n",
    "source = vtkXArrayRectilinearSource()\n",
    "source.load(json.loads(config_path.read_text()))"
   ]
  },
  {
   "cell_type": "code",
   "execution_count": null,
   "id": "1794f187-98bc-4c21-b390-e097bb33d10b",
   "metadata": {},
   "outputs": [],
   "source": [
    "# New API to query the spatial extents for the data\n",
    "\n",
    "source.slice_extents"
   ]
  },
  {
   "cell_type": "code",
   "execution_count": null,
   "id": "a1881411-d67f-4f05-ac0b-8f8a29e5e2b9",
   "metadata": {},
   "outputs": [],
   "source": [
    "# Initialize the XArraySlicer using the configured source\n",
    "\n",
    "from pan3d.explorers.slicer import XArraySlicer\n",
    "explorer = XArraySlicer(source=source)"
   ]
  },
  {
   "cell_type": "code",
   "execution_count": null,
   "id": "105415d1-46c3-4e32-8f1d-918bc27f07fd",
   "metadata": {},
   "outputs": [],
   "source": [
    "# Wait for the UI to render and view the Trame UI \n",
    "\n",
    "await explorer.ui.ready\n",
    "explorer.ui"
   ]
  },
  {
   "cell_type": "code",
   "execution_count": null,
   "id": "5a58d42e-0385-4f0a-a746-912d80cc2b9e",
   "metadata": {},
   "outputs": [],
   "source": [
    "# Interact with various properties of the XArraySlicer and watch the above Trame UI respond\n",
    "\n",
    "explorer.slice_axis = \"level\""
   ]
  },
  {
   "cell_type": "code",
   "execution_count": null,
   "id": "530ad43e-d484-48f1-8465-9a11302b0ffe",
   "metadata": {},
   "outputs": [],
   "source": [
    "explorer.slice_value = 800"
   ]
  },
  {
   "cell_type": "code",
   "execution_count": null,
   "id": "460818e8-3b93-4258-b303-8abea84d23fe",
   "metadata": {},
   "outputs": [],
   "source": [
    "explorer.view_mode = \"2D\""
   ]
  },
  {
   "cell_type": "code",
   "execution_count": null,
   "id": "7005e705-896f-4c73-85bd-2d5aeac17e5f",
   "metadata": {},
   "outputs": [],
   "source": [
    "explorer.slice_axis"
   ]
  }
 ],
 "metadata": {
  "kernelspec": {
   "display_name": "Python 3 (ipykernel)",
   "language": "python",
   "name": "python3"
  },
  "language_info": {
   "codemirror_mode": {
    "name": "ipython",
    "version": 3
   },
   "file_extension": ".py",
   "mimetype": "text/x-python",
   "name": "python",
   "nbconvert_exporter": "python",
   "pygments_lexer": "ipython3",
   "version": "3.10.0"
  }
 },
 "nbformat": 4,
 "nbformat_minor": 5
}
