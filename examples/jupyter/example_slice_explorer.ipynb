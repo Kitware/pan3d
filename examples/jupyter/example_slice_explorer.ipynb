{
 "cells": [
  {
   "cell_type": "markdown",
   "id": "dabed9af-3420-430e-a893-a8a2d329b955",
   "metadata": {},
   "source": [
    "### Imports"
   ]
  },
  {
   "cell_type": "code",
   "execution_count": null,
   "id": "fc5f043e-00c4-4a04-8ea7-096ed987ea33",
   "metadata": {},
   "outputs": [],
   "source": [
    "import json\n",
    "from pathlib import Path\n",
    "\n",
    "from pan3d.xarray.algorithm import vtkXArrayRectilinearSource\n",
    "from pan3d.explorers.slicer import XArraySlicer"
   ]
  },
  {
   "cell_type": "markdown",
   "id": "1f7aa80c-b6e9-49cf-8cda-878238b7ff6b",
   "metadata": {},
   "source": [
    "### Load some sample data"
   ]
  },
  {
   "cell_type": "code",
   "execution_count": null,
   "id": "befdc2b5-eb26-4c5f-b2c6-34e09c9b5108",
   "metadata": {},
   "outputs": [],
   "source": [
    "config = json.loads(Path(\"../example_config_xarray.json\").read_text())\n",
    "\n",
    "source = vtkXArrayRectilinearSource()\n",
    "source.load(config)"
   ]
  },
  {
   "cell_type": "markdown",
   "id": "d0e329ff-c183-4ba8-b38c-3e6122d1bbb4",
   "metadata": {},
   "source": [
    "### Query the loaded data"
   ]
  },
  {
   "cell_type": "code",
   "execution_count": null,
   "id": "1794f187-98bc-4c21-b390-e097bb33d10b",
   "metadata": {},
   "outputs": [],
   "source": [
    "# New API to query the spatial extents for the data\n",
    "source.slice_extents"
   ]
  },
  {
   "cell_type": "markdown",
   "id": "2a540a5b-0d47-491c-87a1-284fe95c298a",
   "metadata": {},
   "source": [
    "### Build slicer explorer\n",
    "\n",
    "Use the existing data source."
   ]
  },
  {
   "cell_type": "code",
   "execution_count": null,
   "id": "a1881411-d67f-4f05-ac0b-8f8a29e5e2b9",
   "metadata": {},
   "outputs": [],
   "source": [
    "explorer = XArraySlicer(source=source, server=\"esgf-slicer\")\n",
    "await explorer.ui.ready"
   ]
  },
  {
   "cell_type": "code",
   "execution_count": null,
   "id": "105415d1-46c3-4e32-8f1d-918bc27f07fd",
   "metadata": {},
   "outputs": [],
   "source": [
    "explorer.ui"
   ]
  },
  {
   "cell_type": "markdown",
   "id": "2beeef90-7f0e-49e5-881f-808291ffa563",
   "metadata": {},
   "source": [
    "## Interact with various properties of the XArraySlicer and watch the above Trame UI respond"
   ]
  },
  {
   "cell_type": "code",
   "execution_count": null,
   "id": "5a58d42e-0385-4f0a-a746-912d80cc2b9e",
   "metadata": {},
   "outputs": [],
   "source": [
    "explorer.slice_axis = \"level\""
   ]
  },
  {
   "cell_type": "code",
   "execution_count": null,
   "id": "530ad43e-d484-48f1-8465-9a11302b0ffe",
   "metadata": {},
   "outputs": [],
   "source": [
    "explorer.slice_value = 350"
   ]
  },
  {
   "cell_type": "code",
   "execution_count": null,
   "id": "460818e8-3b93-4258-b303-8abea84d23fe",
   "metadata": {},
   "outputs": [],
   "source": [
    "explorer.view_mode = \"2D\""
   ]
  },
  {
   "cell_type": "code",
   "execution_count": null,
   "id": "7005e705-896f-4c73-85bd-2d5aeac17e5f",
   "metadata": {},
   "outputs": [],
   "source": [
    "explorer.slice_axis"
   ]
  },
  {
   "cell_type": "code",
   "execution_count": null,
   "id": "5e8462b6-c115-48f0-95c9-4b7ff7bab6be",
   "metadata": {},
   "outputs": [],
   "source": []
  }
 ],
 "metadata": {
  "kernelspec": {
   "display_name": "Python 3 (ipykernel)",
   "language": "python",
   "name": "python3"
  },
  "language_info": {
   "codemirror_mode": {
    "name": "ipython",
    "version": 3
   },
   "file_extension": ".py",
   "mimetype": "text/x-python",
   "name": "python",
   "nbconvert_exporter": "python",
   "pygments_lexer": "ipython3",
   "version": "3.10.15"
  }
 },
 "nbformat": 4,
 "nbformat_minor": 5
}
