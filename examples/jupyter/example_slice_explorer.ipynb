{
 "cells": [
  {
   "cell_type": "markdown",
   "id": "1f7aa80c-b6e9-49cf-8cda-878238b7ff6b",
   "metadata": {},
   "source": [
    "### 1. Load example dataset"
   ]
  },
  {
   "cell_type": "code",
   "execution_count": null,
   "id": "4bb0056f-13ed-48df-8651-5856f0ac4d71",
   "metadata": {},
   "outputs": [],
   "source": [
    "import xarray as xr\n",
    "\n",
    "ds = xr.tutorial.load_dataset(\"eraint_uvz\")\n",
    "ds"
   ]
  },
  {
   "cell_type": "markdown",
   "id": "55377388-9841-4b5c-8359-611ff5cb8195",
   "metadata": {},
   "source": [
    "### 2. Create slice explorer"
   ]
  },
  {
   "cell_type": "code",
   "execution_count": null,
   "id": "a1881411-d67f-4f05-ac0b-8f8a29e5e2b9",
   "metadata": {},
   "outputs": [],
   "source": [
    "from pan3d.explorers.slicer import SliceExplorer\n",
    "\n",
    "explorer = SliceExplorer(xarray=ds)\n",
    "explorer.state.color_by = 'v'\n",
    "await explorer.ui.ready"
   ]
  },
  {
   "cell_type": "markdown",
   "id": "bdd68f89-22c6-4ebd-b984-f016ae09fdb5",
   "metadata": {},
   "source": [
    "### 3. Display slice explorer"
   ]
  },
  {
   "cell_type": "code",
   "execution_count": null,
   "id": "105415d1-46c3-4e32-8f1d-918bc27f07fd",
   "metadata": {
    "scrolled": true
   },
   "outputs": [],
   "source": [
    "explorer.ui"
   ]
  },
  {
   "cell_type": "markdown",
   "id": "2beeef90-7f0e-49e5-881f-808291ffa563",
   "metadata": {},
   "source": [
    "### 4. Interact with various properties of the SliceExplorer and watch the above Trame UI respond"
   ]
  },
  {
   "cell_type": "code",
   "execution_count": null,
   "id": "530ad43e-d484-48f1-8465-9a11302b0ffe",
   "metadata": {},
   "outputs": [],
   "source": [
    "explorer.slice_value = 350"
   ]
  },
  {
   "cell_type": "code",
   "execution_count": null,
   "id": "460818e8-3b93-4258-b303-8abea84d23fe",
   "metadata": {},
   "outputs": [],
   "source": [
    "explorer.view_mode = \"2D\""
   ]
  },
  {
   "cell_type": "code",
   "execution_count": null,
   "id": "7005e705-896f-4c73-85bd-2d5aeac17e5f",
   "metadata": {},
   "outputs": [],
   "source": [
    "explorer.slice_axis"
   ]
  },
  {
   "cell_type": "code",
   "execution_count": null,
   "id": "4a48b59b-583c-4308-b383-a9fd7cdc26d6",
   "metadata": {},
   "outputs": [],
   "source": [
    "explorer.state.available_fields"
   ]
  },
  {
   "cell_type": "code",
   "execution_count": null,
   "id": "c7131645-07fc-4cc7-be70-d7e334396476",
   "metadata": {},
   "outputs": [],
   "source": [
    "# explorer._on_color_by_change('v')\n",
    "explorer.state.color_by = 'z'\n",
    "explorer.ctrl.view_update()"
   ]
  },
  {
   "cell_type": "code",
   "execution_count": null,
   "id": "07736363-0689-43be-8389-ef75fa172024",
   "metadata": {},
   "outputs": [],
   "source": []
  }
 ],
 "metadata": {
  "kernelspec": {
   "display_name": "Python 3 (ipykernel)",
   "language": "python",
   "name": "python3"
  },
  "language_info": {
   "codemirror_mode": {
    "name": "ipython",
    "version": 3
   },
   "file_extension": ".py",
   "mimetype": "text/x-python",
   "name": "python",
   "nbconvert_exporter": "python",
   "pygments_lexer": "ipython3",
   "version": "3.9.5"
  }
 },
 "nbformat": 4,
 "nbformat_minor": 5
}
