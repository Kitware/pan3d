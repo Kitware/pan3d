{
 "cells": [
  {
   "cell_type": "code",
   "execution_count": null,
   "id": "b0844d55",
   "metadata": {},
   "outputs": [],
   "source": [
    "from pan3d import DatasetBuilder"
   ]
  },
  {
   "cell_type": "code",
   "execution_count": null,
   "id": "c66ff554",
   "metadata": {},
   "outputs": [],
   "source": [
    "config = {\n",
    "    'data_origin': 'https://ncsa.osn.xsede.org/Pangeo/pangeo-forge/noaa-coastwatch-geopolar-sst-feedstock/noaa-coastwatch-geopolar-sst.zarr',\n",
    "    'data_array': {\n",
    "        'name': 'analysed_sst',\n",
    "        'x': 'lon',\n",
    "        'y': 'lat',\n",
    "        't': 'time',\n",
    "    },\n",
    "    'data_slices': {\n",
    "        'lon': [1000, 6000, 20],\n",
    "        'lat': [500, 3000, 20],\n",
    "    },\n",
    "}\n",
    "builder = DatasetBuilder()\n",
    "geotrame = builder.viewer\n",
    "builder.import_config(config)\n",
    "\n",
    "# Show GeoTrame in cell output\n",
    "await geotrame.ready\n",
    "geotrame.ui"
   ]
  }
 ],
 "metadata": {
  "kernelspec": {
   "display_name": "pan3d",
   "language": "python",
   "name": "pan3d"
  },
  "language_info": {
   "codemirror_mode": {
    "name": "ipython",
    "version": 3
   },
   "file_extension": ".py",
   "mimetype": "text/x-python",
   "name": "python",
   "nbconvert_exporter": "python",
   "pygments_lexer": "ipython3",
   "version": "3.9.18"
  },
  "toc": {
   "base_numbering": 1,
   "nav_menu": {},
   "number_sections": true,
   "sideBar": true,
   "skip_h1_title": false,
   "title_cell": "Table of Contents",
   "title_sidebar": "Contents",
   "toc_cell": false,
   "toc_position": {},
   "toc_section_display": true,
   "toc_window_display": false
  }
 },
 "nbformat": 4,
 "nbformat_minor": 5
}
