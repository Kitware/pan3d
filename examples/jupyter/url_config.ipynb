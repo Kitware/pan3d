{
 "cells": [
  {
   "cell_type": "code",
   "execution_count": null,
   "id": "b0844d55",
   "metadata": {},
   "outputs": [],
   "source": [
    "from pan3d.viewers.preview import XArrayViewer\n",
    "\n",
    "viewer = XArrayViewer()\n",
    "await viewer.ready"
   ]
  },
  {
   "cell_type": "code",
   "execution_count": null,
   "id": "c66ff554",
   "metadata": {},
   "outputs": [],
   "source": [
    "viewer.import_state({\n",
    "    \"data_origin\": {\n",
    "        \"source\": \"url\",\n",
    "        \"id\": \"https://ncsa.osn.xsede.org/Pangeo/pangeo-forge/noaa-coastwatch-geopolar-sst-feedstock/noaa-coastwatch-geopolar-sst.zarr\"\n",
    "    },\n",
    "    \"dataset_config\": {\n",
    "        \"arrays\": [\"analysed_sst\"],\n",
    "        \"slices\": {\n",
    "          \"lon\": [1000, 6000, 20],\n",
    "          \"lat\": [500, 3000, 20]\n",
    "        },\n",
    "    },\n",
    "    \"preview\": {\n",
    "        \"color_by\": \"analysed_sst\",\n",
    "    }\n",
    "})"
   ]
  },
  {
   "cell_type": "code",
   "execution_count": null,
   "id": "fefeb80b-6403-4b23-98da-a745f67cdb16",
   "metadata": {},
   "outputs": [],
   "source": [
    "viewer.ui"
   ]
  },
  {
   "cell_type": "code",
   "execution_count": null,
   "id": "abc2b44a-e308-49d0-b925-dc774347174e",
   "metadata": {},
   "outputs": [],
   "source": []
  }
 ],
 "metadata": {
  "kernelspec": {
   "display_name": "Python 3 (ipykernel)",
   "language": "python",
   "name": "python3"
  },
  "language_info": {
   "codemirror_mode": {
    "name": "ipython",
    "version": 3
   },
   "file_extension": ".py",
   "mimetype": "text/x-python",
   "name": "python",
   "nbconvert_exporter": "python",
   "pygments_lexer": "ipython3",
   "version": "3.10.15"
  },
  "toc": {
   "base_numbering": 1,
   "nav_menu": {},
   "number_sections": true,
   "sideBar": true,
   "skip_h1_title": false,
   "title_cell": "Table of Contents",
   "title_sidebar": "Contents",
   "toc_cell": false,
   "toc_position": {},
   "toc_section_display": true,
   "toc_window_display": false
  }
 },
 "nbformat": 4,
 "nbformat_minor": 5
}
