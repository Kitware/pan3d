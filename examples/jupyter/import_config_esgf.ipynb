{
 "cells": [
  {
   "cell_type": "markdown",
   "id": "3c5ed231-0166-4181-ad69-630f32eb9af5",
   "metadata": {},
   "source": [
    "# Example: Climate model data (ESGF host)\n",
    "\n",
    "This dataset contains a model of near-surface wind speed computed on a daily basis for a 14 month\n",
    "period from April 2000 through May 2001. The data is from the Coupled Model Intercomparison Project Phase 6\n",
    "(CMIP6) and is hosted by the Earth System Grid Federation (ESGF).\n",
    "\n",
    "To setup your environment:\n",
    "\n",
    "```\n",
    "> pip install pan3d[viewer,esgf]\n",
    "```"
   ]
  },
  {
   "cell_type": "code",
   "execution_count": null,
   "id": "bf9da680",
   "metadata": {},
   "outputs": [],
   "source": [
    "import json\n",
    "from pathlib import Path\n",
    "\n",
    "from pan3d.viewers.preview import XArrayViewer"
   ]
  },
  {
   "cell_type": "markdown",
   "id": "2c8e59f0-0f9c-40a4-9bc3-c0fff22d2be0",
   "metadata": {},
   "source": [
    "## Create viewer"
   ]
  },
  {
   "cell_type": "code",
   "execution_count": null,
   "id": "edee9842-46f8-46cd-a0c1-5493ef2e3b4a",
   "metadata": {},
   "outputs": [],
   "source": [
    "viewer = XArrayViewer(server=\"esgf-viewer\")\n",
    "await viewer.ui.ready"
   ]
  },
  {
   "cell_type": "markdown",
   "id": "84d23d39-2fad-4495-8701-b8fe69170639",
   "metadata": {},
   "source": [
    "## Load dataset - and please be patient!\n",
    "\n",
    "When you run the next code cell, it will load one time step and build the coordinates and data for that time step. Download times have been observed to take over 10 seconds, so after running the next code cell, check the kernel state in the status bar at the bottom of the notebook and wait for it to go from \"Busy\" to \"Idle\"."
   ]
  },
  {
   "cell_type": "code",
   "execution_count": null,
   "id": "2f052f51-86f1-4b44-bfa9-0c6d75892571",
   "metadata": {},
   "outputs": [],
   "source": [
    "import pan3d\n",
    "config = json.loads(Path(\"../example_config_esgf.json\").read_text())\n",
    "viewer.import_state(config)"
   ]
  },
  {
   "cell_type": "markdown",
   "id": "4a15f7d2-faea-4aba-b4bc-653ac39e155f",
   "metadata": {},
   "source": [
    "## Start the Viewer\n",
    "\n",
    "Run the next cell to open the pan3d viewer. In the \"Xarray Viewer\" panel, you can open the \"Rendering\" subpanel and update the time slider to load and view different days in the 14 month range. (To move 1 day at a time, click on the slider then use the left and right arrow keys.)"
   ]
  },
  {
   "cell_type": "code",
   "execution_count": null,
   "id": "4ea77430-d9ef-4feb-9ca3-99bf2725ad6f",
   "metadata": {},
   "outputs": [],
   "source": [
    "viewer.ui"
   ]
  },
  {
   "cell_type": "code",
   "execution_count": null,
   "id": "42f73ae2-6f68-4cd0-942e-72d0a390223d",
   "metadata": {},
   "outputs": [],
   "source": [
    "viewer.source._input"
   ]
  },
  {
   "cell_type": "code",
   "execution_count": null,
   "id": "2f8bd5d1-68c8-41e6-9fed-cfc4c8724a78",
   "metadata": {},
   "outputs": [],
   "source": []
  }
 ],
 "metadata": {
  "kernelspec": {
   "display_name": "Python 3 (ipykernel)",
   "language": "python",
   "name": "python3"
  },
  "language_info": {
   "codemirror_mode": {
    "name": "ipython",
    "version": 3
   },
   "file_extension": ".py",
   "mimetype": "text/x-python",
   "name": "python",
   "nbconvert_exporter": "python",
   "pygments_lexer": "ipython3",
   "version": "3.9.5"
  }
 },
 "nbformat": 4,
 "nbformat_minor": 5
}
