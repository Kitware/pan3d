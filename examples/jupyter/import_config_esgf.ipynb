{
 "cells": [
  {
   "cell_type": "code",
   "execution_count": null,
   "id": "bf9da680",
   "metadata": {},
   "outputs": [],
   "source": [
    "import json\n",
    "from pathlib import Path\n",
    "\n",
    "from pan3d.viewers.preview import XArrayViewer"
   ]
  },
  {
   "cell_type": "markdown",
   "id": "2c8e59f0-0f9c-40a4-9bc3-c0fff22d2be0",
   "metadata": {},
   "source": [
    "## Create viewer"
   ]
  },
  {
   "cell_type": "code",
   "execution_count": null,
   "id": "edee9842-46f8-46cd-a0c1-5493ef2e3b4a",
   "metadata": {},
   "outputs": [],
   "source": [
    "viewer = XArrayViewer(server=\"esgf-viewer\")\n",
    "await viewer.ui.ready"
   ]
  },
  {
   "cell_type": "markdown",
   "id": "84d23d39-2fad-4495-8701-b8fe69170639",
   "metadata": {},
   "source": [
    "## Load dataset"
   ]
  },
  {
   "cell_type": "code",
   "execution_count": null,
   "id": "2f052f51-86f1-4b44-bfa9-0c6d75892571",
   "metadata": {},
   "outputs": [],
   "source": [
    "config = json.loads(Path(\"../example_config_esgf.json\").read_text())\n",
    "viewer.import_state(config)"
   ]
  },
  {
   "cell_type": "markdown",
   "id": "4a15f7d2-faea-4aba-b4bc-653ac39e155f",
   "metadata": {},
   "source": [
    "## Show UI"
   ]
  },
  {
   "cell_type": "code",
   "execution_count": null,
   "id": "4ea77430-d9ef-4feb-9ca3-99bf2725ad6f",
   "metadata": {},
   "outputs": [],
   "source": [
    "viewer.ui"
   ]
  }
 ],
 "metadata": {
  "kernelspec": {
   "display_name": "Python 3 (ipykernel)",
   "language": "python",
   "name": "python3"
  },
  "language_info": {
   "codemirror_mode": {
    "name": "ipython",
    "version": 3
   },
   "file_extension": ".py",
   "mimetype": "text/x-python",
   "name": "python",
   "nbconvert_exporter": "python",
   "pygments_lexer": "ipython3",
   "version": "3.10.15"
  }
 },
 "nbformat": 4,
 "nbformat_minor": 5
}
