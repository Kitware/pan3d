{
 "cells": [
  {
   "cell_type": "code",
   "execution_count": null,
   "id": "f9301b52-0fdc-4fac-aadd-004064ce8732",
   "metadata": {},
   "outputs": [],
   "source": [
    "import xarray as xr"
   ]
  },
  {
   "cell_type": "code",
   "execution_count": null,
   "id": "d1b45707-7150-4535-a344-ea2192eefb70",
   "metadata": {
    "scrolled": true
   },
   "outputs": [],
   "source": [
    "# Fetch the dataset\n",
    "\n",
    "reference_filesystem = (\n",
    "    \"https://storage.googleapis.com/pan3d-public-01/pfsmall/pfsmall-gcp.json\"\n",
    ")\n",
    "xrdata = xr.open_dataset(\n",
    "    \"reference://\",\n",
    "    engine=\"zarr\",\n",
    "    mask_and_scale=False,\n",
    "    backend_kwargs={\n",
    "        \"consolidated\": False,\n",
    "        \"storage_options\": {\n",
    "            \"fo\": reference_filesystem,\n",
    "            \"asynchronous\": False,  # Set for reference fs\n",
    "            \"target_options\": {\n",
    "                \"asynchronous\": False  # Set for target fs (HTTP in this case)\n",
    "            },\n",
    "        },\n",
    "    },\n",
    ")\n",
    "xrdata"
   ]
  },
  {
   "cell_type": "code",
   "execution_count": null,
   "id": "4e267506-f581-4c98-bdcc-c9a716d47e13",
   "metadata": {},
   "outputs": [],
   "source": [
    "# Instantiate the VTK filter to be added to the explorer/viewer's pipeline\n",
    "from vtkmodules.vtkFiltersCore import vtkThreshold\n",
    "\n",
    "\n",
    "threshold = vtkThreshold()\n",
    "# We need to exclude Material IDs == 0, so keeping all from 1 to 15\n",
    "threshold.SetLowerThreshold(1)\n",
    "threshold.SetUpperThreshold(15)\n",
    "threshold.SetInputArrayToProcess(0, 0, 0, 0, \"Material_ID\")"
   ]
  },
  {
   "cell_type": "code",
   "execution_count": null,
   "id": "91916460-3837-468d-97a3-e56672ca98b9",
   "metadata": {},
   "outputs": [],
   "source": [
    "# Create the instance of the viewer, and pass the filter to the pipeline argument\n",
    "\n",
    "from pan3d.viewers.preview import XArrayViewer\n",
    "\n",
    "viewer = XArrayViewer(xarray=xrdata, pipeline=[threshold], server=\"preview\")\n",
    "await viewer.ui.ready\n",
    "\n",
    "viewer.ui"
   ]
  }
 ],
 "metadata": {
  "kernelspec": {
   "display_name": "Python 3 (ipykernel)",
   "language": "python",
   "name": "python3"
  },
  "language_info": {
   "codemirror_mode": {
    "name": "ipython",
    "version": 3
   },
   "file_extension": ".py",
   "mimetype": "text/x-python",
   "name": "python",
   "nbconvert_exporter": "python",
   "pygments_lexer": "ipython3",
   "version": "3.13.5"
  }
 },
 "nbformat": 4,
 "nbformat_minor": 5
}
