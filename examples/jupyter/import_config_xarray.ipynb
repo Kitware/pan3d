{
 "cells": [
  {
   "cell_type": "code",
   "execution_count": null,
   "id": "bf9da680",
   "metadata": {},
   "outputs": [],
   "source": [
    "import json\n",
    "from pathlib import Path\n",
    "\n",
    "from pan3d.viewers.preview import XArrayViewer"
   ]
  },
  {
   "cell_type": "code",
   "execution_count": null,
   "id": "d3aed00e-4836-42d8-9a54-721f667aae9e",
   "metadata": {},
   "outputs": [],
   "source": [
    "viewer = XArrayViewer(server=\"local-viewer\")\n",
    "await viewer.ui.ready"
   ]
  },
  {
   "cell_type": "code",
   "execution_count": null,
   "id": "89aee86f-bec4-4c8a-a67c-038acdf9404c",
   "metadata": {},
   "outputs": [],
   "source": [
    "config = json.loads(Path(\"../example_config_xarray.json\").read_text())\n",
    "viewer.import_state(config)"
   ]
  },
  {
   "cell_type": "code",
   "execution_count": null,
   "id": "2f052f51-86f1-4b44-bfa9-0c6d75892571",
   "metadata": {},
   "outputs": [],
   "source": [
    "viewer.ui"
   ]
  },
  {
   "cell_type": "code",
   "execution_count": null,
   "id": "d7044305-0aa5-4ad0-aca3-c4f43f6e724a",
   "metadata": {},
   "outputs": [],
   "source": []
  }
 ],
 "metadata": {
  "kernelspec": {
   "display_name": "Python 3 (ipykernel)",
   "language": "python",
   "name": "python3"
  },
  "language_info": {
   "codemirror_mode": {
    "name": "ipython",
    "version": 3
   },
   "file_extension": ".py",
   "mimetype": "text/x-python",
   "name": "python",
   "nbconvert_exporter": "python",
   "pygments_lexer": "ipython3",
   "version": "3.10.15"
  }
 },
 "nbformat": 4,
 "nbformat_minor": 5
}
