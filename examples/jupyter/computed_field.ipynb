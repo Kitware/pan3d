{
 "cells": [
  {
   "cell_type": "code",
   "execution_count": null,
   "id": "88a3053b-a228-4099-8bd8-d92abaae317b",
   "metadata": {},
   "outputs": [],
   "source": [
    "from pan3d.xarray.algorithm import vtkXArrayRectilinearSource"
   ]
  },
  {
   "cell_type": "code",
   "execution_count": null,
   "id": "c66ae5de-ba4c-49f8-bcae-3572bd59cfa0",
   "metadata": {},
   "outputs": [],
   "source": [
    "source = vtkXArrayRectilinearSource()\n",
    "source.load(\n",
    "    {\n",
    "        \"data_origin\": {\n",
    "            \"source\": \"xarray\",\n",
    "            \"id\": \"eraint_uvz\",\n",
    "        },\n",
    "        \"dataset_config\": {\n",
    "            \"arrays\": [\"u\", \"v\"],\n",
    "        },\n",
    "    }\n",
    ")"
   ]
  },
  {
   "cell_type": "code",
   "execution_count": null,
   "id": "41a4ebf1-8b90-4709-8d4c-06efb3afcc51",
   "metadata": {},
   "outputs": [],
   "source": [
    "source.computed = {\n",
    "    \"_use_scalars\": [\"u\", \"v\"],  # optional if empty\n",
    "    \"_use_vectors\": [],  # optional if empty\n",
    "    \"vec\": \"(u * iHat) + (v * jHat)\",\n",
    "    \"m2\": \"u*u + v*v\",\n",
    "}"
   ]
  },
  {
   "cell_type": "code",
   "execution_count": null,
   "id": "1a3db2e2-70f5-41f9-b429-bc0d9c1674ab",
   "metadata": {},
   "outputs": [],
   "source": [
    "print(source())"
   ]
  },
  {
   "cell_type": "code",
   "execution_count": null,
   "id": "c3bb5924-a1f4-4f0b-8f14-77ccbc66b251",
   "metadata": {},
   "outputs": [],
   "source": [
    "import pyvista as pv\n",
    "\n",
    "plotter = pv.Plotter()\n",
    "plotter.add_mesh(source, scalars=\"m2\", cmap=\"coolwarm\")\n",
    "plotter.show()"
   ]
  },
  {
   "cell_type": "markdown",
   "id": "8b304583-81f0-4620-9581-64eed5d78433",
   "metadata": {},
   "source": [
    "## Create UI to drive source + viz"
   ]
  },
  {
   "cell_type": "code",
   "execution_count": null,
   "id": "d5a338fe-6997-4f2e-a237-d972415d1249",
   "metadata": {},
   "outputs": [],
   "source": [
    "import ipywidgets as widgets\n",
    "\n",
    "\n",
    "def update_level(change):\n",
    "    source.slices = {\n",
    "        **source.slices,\n",
    "        source.z: change.new,\n",
    "    }\n",
    "    plotter.render()\n",
    "\n",
    "\n",
    "def update_resolution(change):\n",
    "    v = source.slices\n",
    "    v[source.x] = [0, -1, change.new]\n",
    "    v[source.y] = [0, -1, change.new]\n",
    "    source.slices = v\n",
    "    plotter.render()\n",
    "\n",
    "\n",
    "slider_level = widgets.IntSlider(\n",
    "    value=0,\n",
    "    min=0,\n",
    "    max=(source.input[source.z].size - 1),\n",
    "    step=1,\n",
    "    description=source.z,\n",
    ")\n",
    "slider_level.observe(update_level, names=\"value\")\n",
    "slider_resolution = widgets.IntSlider(\n",
    "    value=1, min=1, max=10, step=1, description=\"resolution\"\n",
    ")\n",
    "slider_resolution.observe(update_resolution, names=\"value\")\n",
    "widgets.HBox([slider_level, slider_resolution])"
   ]
  }
 ],
 "metadata": {
  "kernelspec": {
   "display_name": "Python 3 (ipykernel)",
   "language": "python",
   "name": "python3"
  },
  "language_info": {
   "codemirror_mode": {
    "name": "ipython",
    "version": 3
   },
   "file_extension": ".py",
   "mimetype": "text/x-python",
   "name": "python",
   "nbconvert_exporter": "python",
   "pygments_lexer": "ipython3",
   "version": "3.10.15"
  }
 },
 "nbformat": 4,
 "nbformat_minor": 5
}
