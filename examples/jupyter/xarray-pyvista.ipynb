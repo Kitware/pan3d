{
 "cells": [
  {
   "cell_type": "code",
   "execution_count": null,
   "id": "cdc7fab3-4a34-44cc-9356-c7838855a4bf",
   "metadata": {},
   "outputs": [],
   "source": [
    "import pyvista as pv\n",
    "\n",
    "from pan3d.xarray.algorithm import vtkXArrayRectilinearSource\n",
    "\n",
    "source = vtkXArrayRectilinearSource()\n",
    "source.load({\"data_origin\": {\"source\": \"xarray\", \"id\": \"eraint_uvz\"}})\n",
    "\n",
    "plotter = pv.Plotter()\n",
    "plotter.add_mesh(source, scalars=\"u\", cmap=\"coolwarm\")\n",
    "plotter.show()"
   ]
  },
  {
   "cell_type": "code",
   "execution_count": null,
   "id": "26047a78-1bc8-4c53-9d6e-76b6b1a3b53c",
   "metadata": {},
   "outputs": [],
   "source": [
    "print(source.state)"
   ]
  },
  {
   "cell_type": "code",
   "execution_count": null,
   "id": "3aff71ad-0f3c-46a7-a996-46a41bffd304",
   "metadata": {},
   "outputs": [],
   "source": []
  }
 ],
 "metadata": {
  "kernelspec": {
   "display_name": "Python 3 (ipykernel)",
   "language": "python",
   "name": "python3"
  },
  "language_info": {
   "codemirror_mode": {
    "name": "ipython",
    "version": 3
   },
   "file_extension": ".py",
   "mimetype": "text/x-python",
   "name": "python",
   "nbconvert_exporter": "python",
   "pygments_lexer": "ipython3",
   "version": "3.10.15"
  }
 },
 "nbformat": 4,
 "nbformat_minor": 5
}
