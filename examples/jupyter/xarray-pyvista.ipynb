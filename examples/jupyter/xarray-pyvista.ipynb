{
 "cells": [
  {
   "cell_type": "code",
   "execution_count": 1,
   "id": "cdc7fab3-4a34-44cc-9356-c7838855a4bf",
   "metadata": {},
   "outputs": [
    {
     "name": "stderr",
     "output_type": "stream",
     "text": [
      "/Users/sebastien.jourdain/Documents/code/sbir/pan3d/.venv/lib/python3.10/site-packages/xarray/conventions.py:286: SerializationWarning: variable 'z' has non-conforming '_FillValue' np.float64(nan) defined, dropping '_FillValue' entirely.\n",
      "  var = coder.decode(var, name=name)\n",
      "/Users/sebastien.jourdain/Documents/code/sbir/pan3d/.venv/lib/python3.10/site-packages/xarray/conventions.py:286: SerializationWarning: variable 'u' has non-conforming '_FillValue' np.float64(nan) defined, dropping '_FillValue' entirely.\n",
      "  var = coder.decode(var, name=name)\n",
      "/Users/sebastien.jourdain/Documents/code/sbir/pan3d/.venv/lib/python3.10/site-packages/xarray/conventions.py:286: SerializationWarning: variable 'v' has non-conforming '_FillValue' np.float64(nan) defined, dropping '_FillValue' entirely.\n",
      "  var = coder.decode(var, name=name)\n"
     ]
    },
    {
     "data": {
      "application/vnd.jupyter.widget-view+json": {
       "model_id": "1d3abc7f2a114e8ca2103a0848e41778",
       "version_major": 2,
       "version_minor": 0
      },
      "text/plain": [
       "Widget(value='<iframe src=\"http://localhost:57734/index.html?ui=P_0x107ed8d60_0&reconnect=auto\" class=\"pyvista…"
      ]
     },
     "metadata": {},
     "output_type": "display_data"
    }
   ],
   "source": [
    "import pyvista as pv\n",
    "from pan3d.xarray.algorithm import vtkXArrayRectilinearSource\n",
    "\n",
    "source = vtkXArrayRectilinearSource()\n",
    "source.load({ \"data_origin\": { \"source\": \"xarray\", \"id\": \"eraint_uvz\" }})\n",
    "\n",
    "plotter = pv.Plotter()\n",
    "plotter.add_mesh(source, scalars=\"u\", cmap='coolwarm')\n",
    "plotter.show()"
   ]
  },
  {
   "cell_type": "code",
   "execution_count": 2,
   "id": "26047a78-1bc8-4c53-9d6e-76b6b1a3b53c",
   "metadata": {},
   "outputs": [
    {
     "ename": "RuntimeError",
     "evalue": "No state available without data origin. Need to use the load method to set the data origin.",
     "output_type": "error",
     "traceback": [
      "\u001b[0;31m---------------------------------------------------------------------------\u001b[0m",
      "\u001b[0;31mRuntimeError\u001b[0m                              Traceback (most recent call last)",
      "Cell \u001b[0;32mIn[2], line 1\u001b[0m\n\u001b[0;32m----> 1\u001b[0m \u001b[38;5;28mprint\u001b[39m(\u001b[43msource\u001b[49m\u001b[38;5;241;43m.\u001b[39;49m\u001b[43mstate\u001b[49m)\n",
      "File \u001b[0;32m~/Documents/code/sbir/pan3d/pan3d/xarray/algorithm.py:380\u001b[0m, in \u001b[0;36mvtkXArrayRectilinearSource.state\u001b[0;34m(self)\u001b[0m\n\u001b[1;32m    377\u001b[0m \u001b[38;5;129m@property\u001b[39m\n\u001b[1;32m    378\u001b[0m \u001b[38;5;28;01mdef\u001b[39;00m \u001b[38;5;21mstate\u001b[39m(\u001b[38;5;28mself\u001b[39m):\n\u001b[1;32m    379\u001b[0m     \u001b[38;5;28;01mif\u001b[39;00m \u001b[38;5;28mself\u001b[39m\u001b[38;5;241m.\u001b[39m_data_origin:\n\u001b[0;32m--> 380\u001b[0m         \u001b[38;5;28;01mraise\u001b[39;00m \u001b[38;5;167;01mRuntimeError\u001b[39;00m(\n\u001b[1;32m    381\u001b[0m             \u001b[38;5;124m\"\u001b[39m\u001b[38;5;124mNo state available without data origin. Need to use the load method to set the data origin.\u001b[39m\u001b[38;5;124m\"\u001b[39m\n\u001b[1;32m    382\u001b[0m         )\n\u001b[1;32m    384\u001b[0m     \u001b[38;5;28;01mreturn\u001b[39;00m {\n\u001b[1;32m    385\u001b[0m         \u001b[38;5;124m\"\u001b[39m\u001b[38;5;124mdata_origin\u001b[39m\u001b[38;5;124m\"\u001b[39m: \u001b[38;5;28mself\u001b[39m\u001b[38;5;241m.\u001b[39m_data_origin,\n\u001b[1;32m    386\u001b[0m         \u001b[38;5;124m\"\u001b[39m\u001b[38;5;124mdataset_config\u001b[39m\u001b[38;5;124m\"\u001b[39m: {\n\u001b[0;32m   (...)\u001b[0m\n\u001b[1;32m    389\u001b[0m         },\n\u001b[1;32m    390\u001b[0m     }\n",
      "\u001b[0;31mRuntimeError\u001b[0m: No state available without data origin. Need to use the load method to set the data origin."
     ]
    }
   ],
   "source": [
    "print(source.state)"
   ]
  },
  {
   "cell_type": "code",
   "execution_count": null,
   "id": "3aff71ad-0f3c-46a7-a996-46a41bffd304",
   "metadata": {},
   "outputs": [],
   "source": []
  }
 ],
 "metadata": {
  "kernelspec": {
   "display_name": "Python 3 (ipykernel)",
   "language": "python",
   "name": "python3"
  },
  "language_info": {
   "codemirror_mode": {
    "name": "ipython",
    "version": 3
   },
   "file_extension": ".py",
   "mimetype": "text/x-python",
   "name": "python",
   "nbconvert_exporter": "python",
   "pygments_lexer": "ipython3",
   "version": "3.10.15"
  }
 },
 "nbformat": 4,
 "nbformat_minor": 5
}
