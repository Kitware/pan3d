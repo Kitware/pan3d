{
 "cells": [
  {
   "cell_type": "markdown",
   "id": "b9f418ad-518f-44d8-b6ee-bcf16d3d2821",
   "metadata": {},
   "source": [
    "# Load viewer"
   ]
  },
  {
   "cell_type": "code",
   "execution_count": null,
   "id": "ddad5069-f33f-4d15-a1f2-1f6404376ba0",
   "metadata": {
    "scrolled": true
   },
   "outputs": [],
   "source": [
    "from pan3d.viewers.preview import XArrayViewer\n",
    "\n",
    "viewer = XArrayViewer(local_rendering=\"wasm\")\n",
    "await viewer.ready"
   ]
  },
  {
   "cell_type": "markdown",
   "id": "253fb4dd-f6f5-4563-9349-7997fb5c2fb4",
   "metadata": {},
   "source": [
    "## Load configuration from file"
   ]
  },
  {
   "cell_type": "code",
   "execution_count": null,
   "id": "2fb79a96-0071-4b23-8bce-d4a502c4d2e9",
   "metadata": {
    "jupyter": {
     "source_hidden": true
    }
   },
   "outputs": [],
   "source": [
    "import json\n",
    "from pathlib import Path\n",
    "\n",
    "config = Path(\"../example_config_xarray.json\")\n",
    "if config.exists():\n",
    "    viewer.import_state(json.loads(config.read_text()))\n",
    "    print(\"State loaded\")\n",
    "else:\n",
    "    print(f\"Could not find example state in {config.resolve()}\")"
   ]
  },
  {
   "cell_type": "markdown",
   "id": "864c6c2d-086f-4710-86eb-cc736eea4aaf",
   "metadata": {},
   "source": [
    "## Load inlined configuration"
   ]
  },
  {
   "cell_type": "code",
   "execution_count": null,
   "id": "cf9445d6-9cdd-4fd7-bfea-cb3cb149dc0c",
   "metadata": {},
   "outputs": [],
   "source": [
    "config = {\n",
    "    \"data_origin\": {\n",
    "        \"source\": \"url\",\n",
    "        \"id\": \"https://ncsa.osn.xsede.org/Pangeo/pangeo-forge/noaa-coastwatch-geopolar-sst-feedstock/noaa-coastwatch-geopolar-sst.zarr\",\n",
    "    },\n",
    "    \"dataset_config\": {\n",
    "        \"arrays\": [\"analysed_sst\"],\n",
    "        \"slices\": {\"lon\": [1000, 6000, 20], \"lat\": [500, 3000, 20]},\n",
    "    },\n",
    "}\n",
    "viewer.import_state(config)"
   ]
  },
  {
   "cell_type": "markdown",
   "id": "852f0ffe-010a-40d0-ac0f-010f391ae795",
   "metadata": {},
   "source": [
    "## Display viewer"
   ]
  },
  {
   "cell_type": "code",
   "execution_count": null,
   "id": "9d48a3b8-41e3-4ad9-a9a0-3d751fbf8ef8",
   "metadata": {},
   "outputs": [],
   "source": [
    "viewer.ui"
   ]
  },
  {
   "cell_type": "code",
   "execution_count": null,
   "id": "a80f2992-f774-43e7-b4d7-8b825d67de02",
   "metadata": {},
   "outputs": [],
   "source": [
    "import pyvista as pv\n",
    "\n",
    "plotter = pv.Plotter()\n",
    "plotter.show()\n",
    "\n",
    "xarray_reader = viewer.source\n",
    "actor = plotter.add_mesh(xarray_reader, scalars=\"analysed_sst\", cmap=\"coolwarm\")\n",
    "\n",
    "# sync viewer update\n",
    "viewer.ctrl.view_update.add(plotter.render)"
   ]
  },
  {
   "cell_type": "code",
   "execution_count": null,
   "id": "dacecafa-97d1-429f-92e6-9ea82892398f",
   "metadata": {},
   "outputs": [],
   "source": []
  }
 ],
 "metadata": {
  "kernelspec": {
   "display_name": "Python 3 (ipykernel)",
   "language": "python",
   "name": "python3"
  },
  "language_info": {
   "codemirror_mode": {
    "name": "ipython",
    "version": 3
   },
   "file_extension": ".py",
   "mimetype": "text/x-python",
   "name": "python",
   "nbconvert_exporter": "python",
   "pygments_lexer": "ipython3",
   "version": "3.10.15"
  }
 },
 "nbformat": 4,
 "nbformat_minor": 5
}
