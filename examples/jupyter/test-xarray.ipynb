{
 "cells": [
  {
   "cell_type": "code",
   "execution_count": 1,
   "id": "88a3053b-a228-4099-8bd8-d92abaae317b",
   "metadata": {},
   "outputs": [],
   "source": [
    "from pan3d.explorers.data_viewer import XArrayViewer\n",
    "import xarray as xr\n",
    "from xarray.tutorial import open_dataset"
   ]
  },
  {
   "cell_type": "code",
   "execution_count": null,
   "id": "c66ae5de-ba4c-49f8-bcae-3572bd59cfa0",
   "metadata": {},
   "outputs": [],
   "source": [
    "dataset = xr.open_dataset(\"../example_dataset.nc\", engine=\"netcdf4\")"
   ]
  },
  {
   "cell_type": "code",
   "execution_count": 2,
   "id": "41a4ebf1-8b90-4709-8d4c-06efb3afcc51",
   "metadata": {
    "collapsed": true,
    "jupyter": {
     "outputs_hidden": true
    }
   },
   "outputs": [
    {
     "name": "stderr",
     "output_type": "stream",
     "text": [
      "/Users/sebastien.jourdain/Documents/code/sbir/pan3d/.venv/lib/python3.10/site-packages/xarray/conventions.py:286: SerializationWarning: variable 'z' has non-conforming '_FillValue' np.float64(nan) defined, dropping '_FillValue' entirely.\n",
      "  var = coder.decode(var, name=name)\n",
      "/Users/sebastien.jourdain/Documents/code/sbir/pan3d/.venv/lib/python3.10/site-packages/xarray/conventions.py:286: SerializationWarning: variable 'u' has non-conforming '_FillValue' np.float64(nan) defined, dropping '_FillValue' entirely.\n",
      "  var = coder.decode(var, name=name)\n",
      "/Users/sebastien.jourdain/Documents/code/sbir/pan3d/.venv/lib/python3.10/site-packages/xarray/conventions.py:286: SerializationWarning: variable 'v' has non-conforming '_FillValue' np.float64(nan) defined, dropping '_FillValue' entirely.\n",
      "  var = coder.decode(var, name=name)\n"
     ]
    }
   ],
   "source": [
    "dataset = open_dataset(\"eraint_uvz\")"
   ]
  },
  {
   "cell_type": "code",
   "execution_count": 3,
   "id": "54c88fe2-176a-4468-89e3-3dbf2979776a",
   "metadata": {
    "collapsed": true,
    "jupyter": {
     "outputs_hidden": true
    }
   },
   "outputs": [
    {
     "data": {
      "text/plain": [
       "True"
      ]
     },
     "execution_count": 3,
     "metadata": {},
     "output_type": "execute_result"
    },
    {
     "name": "stderr",
     "output_type": "stream",
     "text": [
      "ERROR:root:Err: 0 Type: [Syntax Error] Msg: ERR201 - Undefined symbol: 'u'\tExpression: u*iHat + v*jHat\n",
      "ERROR:root:Err: 0 Type: [Syntax Error] Msg: ERR201 - Undefined symbol: 'u'\tExpression: u*iHat + v*jHat\n",
      "ERROR:root:Err: 0 Type: [Syntax Error] Msg: ERR201 - Undefined symbol: 'u'\tExpression: u*u + v*v\n",
      "ERROR:root:Err: 0 Type: [Syntax Error] Msg: ERR201 - Undefined symbol: 'u'\tExpression: u*u + v*v\n"
     ]
    },
    {
     "name": "stdout",
     "output_type": "stream",
     "text": [
      "<vtkmodules.util.execution_model.Pipeline object at 0x146673010>\n"
     ]
    }
   ],
   "source": [
    "viewer = XArrayViewer()\n",
    "await viewer.ui.ready"
   ]
  },
  {
   "cell_type": "code",
   "execution_count": 4,
   "id": "c78e6b6c-6ea0-4f46-ada1-8760ed86474f",
   "metadata": {},
   "outputs": [
    {
     "data": {
      "application/vnd.jupyter.widget-view+json": {
       "model_id": "fbd9427e7e9e437fb5ac8e0de61dc9c3",
       "version_major": 2,
       "version_minor": 0
      },
      "text/plain": [
       "HTML(value='<iframe id=\"trame_trame__template_main\" src=\"http://localhost:55794/index.html?ui=main&reconnect=a…"
      ]
     },
     "metadata": {},
     "output_type": "display_data"
    },
    {
     "name": "stderr",
     "output_type": "stream",
     "text": [
      "\u001b[0m\u001b[31m2024-10-29 17:38:35.710 (  33.601s) [          1C7CDB]vtkExprTkFunctionParser:481    ERR| vtkExprTkFunctionParser (0x15c353e50): Err: 0 Type: [Syntax Error] Msg: ERR201 - Undefined symbol: 'u'\tExpression: u*iHat + v*jHat\n",
      "\u001b[0m\n",
      "\u001b[0m\u001b[31m2024-10-29 17:38:35.710 (  33.601s) [          1C7CDB]vtkExprTkFunctionParser:481    ERR| vtkExprTkFunctionParser (0x15c353e50): Err: 0 Type: [Syntax Error] Msg: ERR201 - Undefined symbol: 'u'\tExpression: u*iHat + v*jHat\n",
      "\u001b[0m\n",
      "\u001b[0m\u001b[33m2024-10-29 17:38:35.711 (  33.602s) [          1C7CDB] vtkArrayCalculator.cxx:581   WARN| vtkArrayCalculator (0x1420eb080): An error occurred when parsing the calculator's function.  See previous errors.\u001b[0m\n",
      "\u001b[0m\u001b[31m2024-10-29 17:38:35.711 (  33.602s) [          1C7CDB]vtkExprTkFunctionParser:481    ERR| vtkExprTkFunctionParser (0x15c3632a0): Err: 0 Type: [Syntax Error] Msg: ERR201 - Undefined symbol: 'u'\tExpression: u*u + v*v\n",
      "\u001b[0m\n",
      "\u001b[0m\u001b[31m2024-10-29 17:38:35.711 (  33.602s) [          1C7CDB]vtkExprTkFunctionParser:481    ERR| vtkExprTkFunctionParser (0x15c3632a0): Err: 0 Type: [Syntax Error] Msg: ERR201 - Undefined symbol: 'u'\tExpression: u*u + v*v\n",
      "\u001b[0m\n",
      "\u001b[0m\u001b[33m2024-10-29 17:38:35.712 (  33.603s) [          1C7CDB] vtkArrayCalculator.cxx:581   WARN| vtkArrayCalculator (0x1420eb4a0): An error occurred when parsing the calculator's function.  See previous errors.\u001b[0m\n"
     ]
    }
   ],
   "source": [
    "viewer.xarray = dataset\n",
    "\n",
    "viewer.source.order = \"F\" \n",
    "viewer.source.computed = {\n",
    "    \"vec\": \"u*iHat + v*jHat\",\n",
    "    \"mag\": \"u*u + v*v\",\n",
    "}\n",
    "\n",
    "viewer.ui"
   ]
  },
  {
   "cell_type": "code",
   "execution_count": null,
   "id": "5f993b87-c96c-496b-a819-f08cb2c8d06a",
   "metadata": {},
   "outputs": [],
   "source": []
  },
  {
   "cell_type": "code",
   "execution_count": null,
   "id": "6646794d-151a-4e3f-9e3a-b0fad4451719",
   "metadata": {},
   "outputs": [],
   "source": [
    "from pan3d.xarray.algorithm import vtkXArrayRectilinearSource\n",
    "\n",
    "algo = vtkXArrayRectilinearSource(dataset)"
   ]
  },
  {
   "cell_type": "code",
   "execution_count": null,
   "id": "c3bb5924-a1f4-4f0b-8f14-77ccbc66b251",
   "metadata": {},
   "outputs": [],
   "source": [
    "viewer.show(algo)"
   ]
  },
  {
   "cell_type": "code",
   "execution_count": null,
   "id": "e52221f9-3620-4605-9dae-26747474337f",
   "metadata": {},
   "outputs": [],
   "source": [
    "print(viewer.source())\n"
   ]
  },
  {
   "cell_type": "code",
   "execution_count": null,
   "id": "a1db60e3-5642-4580-aac5-66646f285544",
   "metadata": {},
   "outputs": [],
   "source": []
  }
 ],
 "metadata": {
  "kernelspec": {
   "display_name": "Python 3 (ipykernel)",
   "language": "python",
   "name": "python3"
  },
  "language_info": {
   "codemirror_mode": {
    "name": "ipython",
    "version": 3
   },
   "file_extension": ".py",
   "mimetype": "text/x-python",
   "name": "python",
   "nbconvert_exporter": "python",
   "pygments_lexer": "ipython3",
   "version": "3.10.14"
  }
 },
 "nbformat": 4,
 "nbformat_minor": 5
}
