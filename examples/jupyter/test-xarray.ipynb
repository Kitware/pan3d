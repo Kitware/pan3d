{
 "cells": [
  {
   "cell_type": "code",
   "execution_count": null,
   "id": "88a3053b-a228-4099-8bd8-d92abaae317b",
   "metadata": {},
   "outputs": [],
   "source": [
    "from pan3d.explorers.data_viewer import XArrayViewer\n",
    "import xarray as xr\n",
    "from xarray.tutorial import open_dataset"
   ]
  },
  {
   "cell_type": "code",
   "execution_count": null,
   "id": "c66ae5de-ba4c-49f8-bcae-3572bd59cfa0",
   "metadata": {},
   "outputs": [],
   "source": [
    "dataset = xr.open_dataset(\"../example_dataset.nc\", engine=\"netcdf4\")"
   ]
  },
  {
   "cell_type": "code",
   "execution_count": null,
   "id": "41a4ebf1-8b90-4709-8d4c-06efb3afcc51",
   "metadata": {},
   "outputs": [],
   "source": [
    "dataset = open_dataset(\"eraint_uvz\")"
   ]
  },
  {
   "cell_type": "code",
   "execution_count": null,
   "id": "54c88fe2-176a-4468-89e3-3dbf2979776a",
   "metadata": {},
   "outputs": [],
   "source": [
    "viewer = XArrayViewer()\n",
    "await viewer.ui.ready\n",
    "viewer.xarray = dataset\n",
    "viewer.computed = {\n",
    "    \"_use_scalars\": [\"u\", \"v\"], # optional if empty\n",
    "    \"_use_vectors\": [], # optional if empty\n",
    "    \"vec\": \"u*iHat + v*jHat\",\n",
    "    \"mag\": \"u*u + v*v\",\n",
    "}\n",
    "source = viewer.source"
   ]
  },
  {
   "cell_type": "code",
   "execution_count": null,
   "id": "1a3db2e2-70f5-41f9-b429-bc0d9c1674ab",
   "metadata": {},
   "outputs": [],
   "source": [
    "viewer.ui"
   ]
  },
  {
   "cell_type": "code",
   "execution_count": null,
   "id": "c3bb5924-a1f4-4f0b-8f14-77ccbc66b251",
   "metadata": {},
   "outputs": [],
   "source": [
    "import pyvista as pv\n",
    "\n",
    "plotter = pv.Plotter()\n",
    "plotter.add_mesh(source, scalars=\"mag\", cmap='coolwarm')\n",
    "plotter.show()"
   ]
  },
  {
   "cell_type": "code",
   "execution_count": null,
   "id": "d5a338fe-6997-4f2e-a237-d972415d1249",
   "metadata": {},
   "outputs": [],
   "source": [
    "import ipywidgets as widgets\n",
    "\n",
    "def update_level(change):\n",
    "    source.slicing = {\n",
    "        **source.slicing,\n",
    "        source.z: change.new, \n",
    "    }\n",
    "    viewer.reset_camera()\n",
    "    plotter.render()\n",
    "\n",
    "def update_resolution(change):\n",
    "    v = source.slicing\n",
    "    v[source.x] = [0, -1, change.new]\n",
    "    v[source.y] = [0, -1, change.new]\n",
    "    source.slicing = v\n",
    "    viewer.reset_camera()\n",
    "    plotter.render()\n",
    "\n",
    "slider_level = widgets.IntSlider(value=0, min=0, max=(viewer.xarray[viewer.source.z].size - 1), step=1, description=viewer.source.z)\n",
    "slider_level.observe(update_level, names='value')\n",
    "slider_resolution = widgets.IntSlider(value=1, min=1, max=10, step=1, description=\"resolution\")\n",
    "slider_resolution.observe(update_resolution, names='value')\n",
    "widgets.HBox([slider_level, slider_resolution])"
   ]
  },
  {
   "cell_type": "code",
   "execution_count": null,
   "id": "ad74227e-ea49-44fc-89d7-f4a5c95b5cf6",
   "metadata": {
    "scrolled": true
   },
   "outputs": [],
   "source": [
    "print(source)"
   ]
  },
  {
   "cell_type": "code",
   "execution_count": null,
   "id": "6646794d-151a-4e3f-9e3a-b0fad4451719",
   "metadata": {},
   "outputs": [],
   "source": [
    "from pan3d.xarray.algorithm import vtkXArrayRectilinearSource\n",
    "\n",
    "algo = vtkXArrayRectilinearSource(dataset)\n",
    "algo.computed = {\n",
    "    \"_use_scalars\": [\"u\", \"v\"], # optional if empty\n",
    "    \"_use_vectors\": [], # optional if empty\n",
    "    \"vec\": \"u*iHat + v*jHat\",\n",
    "    \"mag\": \"u*u + v*v\",\n",
    "}"
   ]
  }
 ],
 "metadata": {
  "kernelspec": {
   "display_name": "Python 3 (ipykernel)",
   "language": "python",
   "name": "python3"
  },
  "language_info": {
   "codemirror_mode": {
    "name": "ipython",
    "version": 3
   },
   "file_extension": ".py",
   "mimetype": "text/x-python",
   "name": "python",
   "nbconvert_exporter": "python",
   "pygments_lexer": "ipython3",
   "version": "3.10.14"
  }
 },
 "nbformat": 4,
 "nbformat_minor": 5
}
