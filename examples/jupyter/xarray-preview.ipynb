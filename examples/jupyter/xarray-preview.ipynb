{
 "cells": [
  {
   "cell_type": "markdown",
   "id": "0939199e-4fd4-4dec-8cf9-837e62dcfbe2",
   "metadata": {},
   "source": [
    "## Load XArray data"
   ]
  },
  {
   "cell_type": "code",
   "execution_count": null,
   "id": "87e682c0-d2d0-4991-8302-f876b310e982",
   "metadata": {
    "scrolled": true
   },
   "outputs": [],
   "source": [
    "import xarray as xr\n",
    "\n",
    "ds = xr.tutorial.load_dataset(\"eraint_uvz\")"
   ]
  },
  {
   "cell_type": "markdown",
   "id": "ec636d74-f99f-4a50-b209-fa7f411dda3e",
   "metadata": {},
   "source": [
    "## Show data using Pan3d preview"
   ]
  },
  {
   "cell_type": "code",
   "execution_count": null,
   "id": "ce12be13-2544-4dd8-90e3-ff076604dadb",
   "metadata": {},
   "outputs": [],
   "source": [
    "viewer = ds.pan3d.preview\n",
    "viewer"
   ]
  },
  {
   "cell_type": "markdown",
   "id": "c5d8c7ac-9287-4e0e-bf78-65028b15a23f",
   "metadata": {},
   "source": [
    "### Access to VTK source"
   ]
  },
  {
   "cell_type": "code",
   "execution_count": null,
   "id": "6ff48739-b9a2-435d-83bf-379a2d4d392d",
   "metadata": {},
   "outputs": [],
   "source": [
    "print(viewer.source.slice_extents)\n",
    "print(viewer.source.slices)"
   ]
  },
  {
   "cell_type": "markdown",
   "id": "58002dba-7b9c-44ec-9e58-a5065267b6c9",
   "metadata": {},
   "source": [
    "# Create Viewer by hand"
   ]
  },
  {
   "cell_type": "code",
   "execution_count": null,
   "id": "c4688d5b-333a-4138-a4c1-774eaab2202b",
   "metadata": {},
   "outputs": [],
   "source": [
    "from pan3d.viewers.preview import XArrayViewer\n",
    "\n",
    "viewer = XArrayViewer(xarray=ds, server=\"preview\")\n",
    "await viewer.ui.ready\n",
    "\n",
    "viewer.ui"
   ]
  }
 ],
 "metadata": {
  "kernelspec": {
   "display_name": "Python 3 (ipykernel)",
   "language": "python",
   "name": "python3"
  },
  "language_info": {
   "codemirror_mode": {
    "name": "ipython",
    "version": 3
   },
   "file_extension": ".py",
   "mimetype": "text/x-python",
   "name": "python",
   "nbconvert_exporter": "python",
   "pygments_lexer": "ipython3",
   "version": "3.10.15"
  }
 },
 "nbformat": 4,
 "nbformat_minor": 5
}
