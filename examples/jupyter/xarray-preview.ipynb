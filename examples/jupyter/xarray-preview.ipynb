{
 "cells": [
  {
   "cell_type": "code",
   "execution_count": 1,
   "id": "87e682c0-d2d0-4991-8302-f876b310e982",
   "metadata": {
    "collapsed": true,
    "jupyter": {
     "outputs_hidden": true
    },
    "scrolled": true
   },
   "outputs": [
    {
     "name": "stderr",
     "output_type": "stream",
     "text": [
      "/Users/sebastien.jourdain/Documents/code/sbir/pan3d/.venv/lib/python3.10/site-packages/xarray/conventions.py:287: SerializationWarning: variable 'z' has non-conforming '_FillValue' np.float64(nan) defined, dropping '_FillValue' entirely.\n",
      "  var = coder.decode(var, name=name)\n",
      "/Users/sebastien.jourdain/Documents/code/sbir/pan3d/.venv/lib/python3.10/site-packages/xarray/conventions.py:287: SerializationWarning: variable 'u' has non-conforming '_FillValue' np.float64(nan) defined, dropping '_FillValue' entirely.\n",
      "  var = coder.decode(var, name=name)\n",
      "/Users/sebastien.jourdain/Documents/code/sbir/pan3d/.venv/lib/python3.10/site-packages/xarray/conventions.py:287: SerializationWarning: variable 'v' has non-conforming '_FillValue' np.float64(nan) defined, dropping '_FillValue' entirely.\n",
      "  var = coder.decode(var, name=name)\n"
     ]
    }
   ],
   "source": [
    "import xarray as xr\n",
    "\n",
    "ds = xr.tutorial.load_dataset(\"eraint_uvz\")"
   ]
  },
  {
   "cell_type": "markdown",
   "id": "ec636d74-f99f-4a50-b209-fa7f411dda3e",
   "metadata": {},
   "source": [
    "## Use XArray dataset accessor"
   ]
  },
  {
   "cell_type": "code",
   "execution_count": 4,
   "id": "ce12be13-2544-4dd8-90e3-ff076604dadb",
   "metadata": {},
   "outputs": [
    {
     "data": {
      "application/vnd.jupyter.widget-view+json": {
       "model_id": "dd23320974a046288894080e986d46cb",
       "version_major": 2,
       "version_minor": 0
      },
      "text/plain": [
       "HTML(value='<iframe id=\"pan3d_accessor_2_trame__template_main\" src=\"http://localhost:55486/index.html?ui=main&…"
      ]
     },
     "metadata": {},
     "output_type": "display_data"
    }
   ],
   "source": [
    "await ds.pan3d.preview"
   ]
  },
  {
   "cell_type": "markdown",
   "id": "58002dba-7b9c-44ec-9e58-a5065267b6c9",
   "metadata": {},
   "source": [
    "# Create Viewer by hand"
   ]
  },
  {
   "cell_type": "code",
   "execution_count": 5,
   "id": "c4688d5b-333a-4138-a4c1-774eaab2202b",
   "metadata": {},
   "outputs": [
    {
     "data": {
      "application/vnd.jupyter.widget-view+json": {
       "model_id": "0663dc8cbeb54d85949f5d410626f3bc",
       "version_major": 2,
       "version_minor": 0
      },
      "text/plain": [
       "HTML(value='<iframe id=\"preview_trame__template_main\" src=\"http://localhost:55516/index.html?ui=main&reconnect…"
      ]
     },
     "metadata": {},
     "output_type": "display_data"
    }
   ],
   "source": [
    "from pan3d.viewers.preview import XArrayViewer\n",
    "\n",
    "viewer = XArrayViewer(xarray=ds, server=\"preview\")\n",
    "await viewer.ui.ready\n",
    "\n",
    "viewer.ui"
   ]
  },
  {
   "cell_type": "code",
   "execution_count": null,
   "id": "b2be7e54-2d76-472c-af05-c938ea338848",
   "metadata": {},
   "outputs": [],
   "source": []
  }
 ],
 "metadata": {
  "kernelspec": {
   "display_name": "Python 3 (ipykernel)",
   "language": "python",
   "name": "python3"
  },
  "language_info": {
   "codemirror_mode": {
    "name": "ipython",
    "version": 3
   },
   "file_extension": ".py",
   "mimetype": "text/x-python",
   "name": "python",
   "nbconvert_exporter": "python",
   "pygments_lexer": "ipython3",
   "version": "3.10.15"
  }
 },
 "nbformat": 4,
 "nbformat_minor": 5
}
