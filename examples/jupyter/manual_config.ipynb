{
 "cells": [
  {
   "cell_type": "code",
   "execution_count": null,
   "id": "7cec5393-caf9-4595-b568-01acd53c231e",
   "metadata": {},
   "outputs": [],
   "source": [
    "from pan3d import DatasetBuilder"
   ]
  },
  {
   "cell_type": "code",
   "execution_count": null,
   "id": "73850d21",
   "metadata": {},
   "outputs": [],
   "source": [
    "builder = DatasetBuilder(dataset='../example_dataset.nc')\n",
    "geotrame = builder.viewer\n",
    "\n",
    "builder.data_array_name = 'density'\n",
    "builder.x = 'length'\n",
    "builder.y = 'width'\n",
    "builder.z = 'height'\n",
    "builder.t = 'second'\n",
    "builder.t_index = 2\n",
    "\n",
    "# Show GeoTrame in cell output\n",
    "await geotrame.ready\n",
    "geotrame.ui"
   ]
  },
  {
   "cell_type": "code",
   "execution_count": null,
   "id": "e022440c-0d5f-495b-a38a-6bfb9492b1f5",
   "metadata": {},
   "outputs": [],
   "source": [
    "builder.dataset"
   ]
  },
  {
   "cell_type": "code",
   "execution_count": null,
   "id": "e758296e-7ec4-433f-9106-55ebbc6d67c6",
   "metadata": {},
   "outputs": [],
   "source": [
    "builder.data_array"
   ]
  },
  {
   "cell_type": "code",
   "execution_count": null,
   "id": "3fbe8d9f-4343-4ce7-b024-8bf38995b260",
   "metadata": {},
   "outputs": [],
   "source": [
    "builder.mesh"
   ]
  }
 ],
 "metadata": {
  "kernelspec": {
   "display_name": "pan3d",
   "language": "python",
   "name": "pan3d"
  },
  "language_info": {
   "codemirror_mode": {
    "name": "ipython",
    "version": 3
   },
   "file_extension": ".py",
   "mimetype": "text/x-python",
   "name": "python",
   "nbconvert_exporter": "python",
   "pygments_lexer": "ipython3",
   "version": "3.9.18"
  },
  "toc": {
   "base_numbering": 1,
   "nav_menu": {},
   "number_sections": true,
   "sideBar": true,
   "skip_h1_title": false,
   "title_cell": "Table of Contents",
   "title_sidebar": "Contents",
   "toc_cell": false,
   "toc_position": {},
   "toc_section_display": true,
   "toc_window_display": false
  }
 },
 "nbformat": 4,
 "nbformat_minor": 5
}
