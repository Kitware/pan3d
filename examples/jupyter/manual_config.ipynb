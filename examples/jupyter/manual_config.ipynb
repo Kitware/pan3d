{
 "cells": [
  {
   "cell_type": "code",
   "execution_count": null,
   "id": "7cec5393-caf9-4595-b568-01acd53c231e",
   "metadata": {},
   "outputs": [],
   "source": [
    "from pan3d.viewers.preview import XArrayViewer"
   ]
  },
  {
   "cell_type": "code",
   "execution_count": null,
   "id": "72f6ccbb-2afa-4854-ac45-209781653184",
   "metadata": {},
   "outputs": [],
   "source": [
    "viewer = XArrayViewer(server=\"manual-viewer\")\n",
    "await viewer.ui.ready"
   ]
  },
  {
   "cell_type": "code",
   "execution_count": null,
   "id": "726fbd8c-a570-4442-9826-1c7853029fc0",
   "metadata": {},
   "outputs": [],
   "source": [
    "viewer.import_state(\n",
    "    {\n",
    "        \"data_origin\": {\n",
    "            \"source\": \"file\",\n",
    "            \"id\": \"../example_dataset.nc\",\n",
    "        },\n",
    "        \"dataset_config\": {\n",
    "            \"t_index\": 1,\n",
    "            \"arrays\": [\"density\"],\n",
    "        },\n",
    "        \"preview\": {\n",
    "            \"color_by\": \"density\",\n",
    "        },\n",
    "    }\n",
    ")"
   ]
  },
  {
   "cell_type": "code",
   "execution_count": null,
   "id": "73850d21",
   "metadata": {},
   "outputs": [],
   "source": [
    "viewer.ui"
   ]
  },
  {
   "cell_type": "code",
   "execution_count": null,
   "id": "e022440c-0d5f-495b-a38a-6bfb9492b1f5",
   "metadata": {},
   "outputs": [],
   "source": [
    "print(f\"time: {viewer.source.t_index}/{viewer.source.t_size}\")"
   ]
  },
  {
   "cell_type": "code",
   "execution_count": null,
   "id": "5d616c00-2add-40c9-b66a-c0d5a72a505d",
   "metadata": {},
   "outputs": [],
   "source": [
    "data_extent = viewer.source.slice_extents\n",
    "print(f\"{data_extent=}\")"
   ]
  },
  {
   "cell_type": "code",
   "execution_count": null,
   "id": "b5e1f7dd-5c2f-4e15-9e1c-7ebef92d6c81",
   "metadata": {},
   "outputs": [],
   "source": [
    "vtk_mesh = viewer.source()\n",
    "print(vtk_mesh)"
   ]
  },
  {
   "cell_type": "code",
   "execution_count": null,
   "id": "89e640dc-dd78-46db-b69c-6f5f5fa73add",
   "metadata": {},
   "outputs": [],
   "source": []
  }
 ],
 "metadata": {
  "kernelspec": {
   "display_name": "Python 3 (ipykernel)",
   "language": "python",
   "name": "python3"
  },
  "language_info": {
   "codemirror_mode": {
    "name": "ipython",
    "version": 3
   },
   "file_extension": ".py",
   "mimetype": "text/x-python",
   "name": "python",
   "nbconvert_exporter": "python",
   "pygments_lexer": "ipython3",
   "version": "3.10.15"
  },
  "toc": {
   "base_numbering": 1,
   "nav_menu": {},
   "number_sections": true,
   "sideBar": true,
   "skip_h1_title": false,
   "title_cell": "Table of Contents",
   "title_sidebar": "Contents",
   "toc_cell": false,
   "toc_position": {},
   "toc_section_display": true,
   "toc_window_display": false
  }
 },
 "nbformat": 4,
 "nbformat_minor": 5
}
