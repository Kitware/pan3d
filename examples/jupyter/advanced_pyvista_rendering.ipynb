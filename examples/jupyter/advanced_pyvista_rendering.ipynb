{
 "cells": [
  {
   "cell_type": "markdown",
   "id": "ad035d18-0ae4-4205-95d9-8dc5879f95f5",
   "metadata": {},
   "source": [
    "## PyVista example\n",
    "\n",
    "This notebook does require you to install the following \n",
    "\n",
    "```\n",
    "pip install pan3d pyvista imageio\n",
    "```"
   ]
  },
  {
   "cell_type": "code",
   "execution_count": null,
   "id": "6a46d66c",
   "metadata": {},
   "outputs": [],
   "source": [
    "import json\n",
    "import time\n",
    "from pathlib import Path\n",
    "\n",
    "import pyvista as pv\n",
    "\n",
    "from pan3d.xarray.algorithm import vtkXArrayRectilinearSource"
   ]
  },
  {
   "cell_type": "code",
   "execution_count": null,
   "id": "cca01de1-d84c-47d6-a2e9-2462ab4cfbb8",
   "metadata": {},
   "outputs": [],
   "source": [
    "config = json.loads(Path(\"../example_config_esgf.json\").read_text())\n",
    "\n",
    "start = time.time()\n",
    "builder = vtkXArrayRectilinearSource()\n",
    "builder.load(config)\n",
    "end = time.time()\n",
    "\n",
    "print(f\"Loaded data in {end-start} seconds\")"
   ]
  },
  {
   "cell_type": "code",
   "execution_count": null,
   "id": "9b1bf3c1-92be-4662-a2f5-fe7cc9ac39eb",
   "metadata": {},
   "outputs": [],
   "source": [
    "# This advanced GIF rendering requires imageio\n",
    "# https://tutorial.pyvista.org/tutorial/03_figures/d_gif.html\n",
    "start = time.time()\n",
    "plotter = pv.Plotter()\n",
    "\n",
    "# Open a GIF\n",
    "plotter.open_gif(\"esgf.gif\")\n",
    "\n",
    "# If want to use algo\n",
    "# plotter.add_mesh(builder, render=False, clim=[0, 22])\n",
    "\n",
    "# Update T and write a frame for each updated position\n",
    "# GeoTrame showed that T ranges from Apr 01 2000 12:00 to May 30 2001 12:00, and it has 420 time steps\n",
    "for i in range(builder.t_size):\n",
    "    builder.t_index = i\n",
    "\n",
    "    # Write a frame. This triggers a render.\n",
    "    plotter.clear()\n",
    "    plotter.add_mesh(pv.wrap(builder()).warp_by_scalar(), render=False, clim=[0, 22])\n",
    "    plotter.write_frame()\n",
    "\n",
    "# Closes and finalizes GIF\n",
    "plotter.close()\n",
    "end = time.time()\n",
    "\n",
    "# GIF generation takes about 2 mins for 420 frames (approximately 0.3 seconds to fetch and render each frame)\n",
    "print(f\"Saved esgf.gif. Took {end - start} seconds.\")\n",
    "print(\"./esgf.gif\")"
   ]
  },
  {
   "cell_type": "markdown",
   "id": "ca246280-e8cd-44f2-b4a2-44a211116030",
   "metadata": {},
   "source": [
    "![LocalGIF](./esgf.gif)"
   ]
  }
 ],
 "metadata": {
  "kernelspec": {
   "display_name": "Python 3 (ipykernel)",
   "language": "python",
   "name": "python3"
  },
  "language_info": {
   "codemirror_mode": {
    "name": "ipython",
    "version": 3
   },
   "file_extension": ".py",
   "mimetype": "text/x-python",
   "name": "python",
   "nbconvert_exporter": "python",
   "pygments_lexer": "ipython3",
   "version": "3.10.15"
  }
 },
 "nbformat": 4,
 "nbformat_minor": 5
}
