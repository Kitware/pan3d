{
 "cells": [
  {
   "cell_type": "code",
   "execution_count": null,
   "id": "6a46d66c",
   "metadata": {},
   "outputs": [],
   "source": [
    "from pan3d import DatasetBuilder\n",
    "import pyvista as pv\n",
    "from datetime import datetime"
   ]
  },
  {
   "cell_type": "code",
   "execution_count": null,
   "id": "cca01de1-d84c-47d6-a2e9-2462ab4cfbb8",
   "metadata": {},
   "outputs": [],
   "source": [
    "start = datetime.now()\n",
    "\n",
    "# Use Pan3D DatasetBuilder to import existing config file\n",
    "config_path = '../example_config_esgf.json'\n",
    "builder = DatasetBuilder(catalogs=['esgf'])\n",
    "builder.import_config(config_path)\n",
    "\n",
    "# Access PyVista Mesh on builder\n",
    "print(builder.mesh)\n"
   ]
  },
  {
   "cell_type": "code",
   "execution_count": null,
   "id": "9b1bf3c1-92be-4662-a2f5-fe7cc9ac39eb",
   "metadata": {},
   "outputs": [],
   "source": [
    "# This advanced GIF rendering requires imageio\n",
    "# https://tutorial.pyvista.org/tutorial/03_figures/d_gif.html\n",
    "\n",
    "plotter = pv.Plotter()\n",
    "\n",
    "# Open a GIF\n",
    "plotter.open_gif(\"esgf.gif\")\n",
    "\n",
    "# Update T and write a frame for each updated position\n",
    "# GeoTrame showed that T ranges from Apr 01 2000 12:00 to May 30 2001 12:00, and it has 420 time steps\n",
    "n_time_frames = 420\n",
    "n_skip_frames = 1\n",
    "for i in range(0, n_time_frames, n_skip_frames):\n",
    "    plotter.clear()\n",
    "    builder.t_index = i\n",
    "    actor = plotter.add_mesh(builder.mesh.warp_by_scalar(), render=False, clim=[0, 22])\n",
    "\n",
    "    # Write a frame. This triggers a render.\n",
    "    plotter.write_frame()\n",
    "\n",
    "# Closes and finalizes GIF\n",
    "plotter.close()\n",
    "\n",
    "# GIF generation takes about 2 mins for 420 frames (approximately 0.3 seconds to fetch and render each frame)\n",
    "print(f'Saved esgf.gif. Took {datetime.now() - start} seconds.')"
   ]
  },
  {
   "cell_type": "markdown",
   "id": "ca246280-e8cd-44f2-b4a2-44a211116030",
   "metadata": {},
   "source": [
    "![LocalGIF](esgf.gif \"gif\")"
   ]
  }
 ],
 "metadata": {
  "kernelspec": {
   "display_name": "pan3d",
   "language": "python",
   "name": "pan3d"
  },
  "language_info": {
   "codemirror_mode": {
    "name": "ipython",
    "version": 3
   },
   "file_extension": ".py",
   "mimetype": "text/x-python",
   "name": "python",
   "nbconvert_exporter": "python",
   "pygments_lexer": "ipython3",
   "version": "3.9.18"
  }
 },
 "nbformat": 4,
 "nbformat_minor": 5
}
