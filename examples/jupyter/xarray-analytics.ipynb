{
 "cells": [
  {
   "cell_type": "code",
   "execution_count": null,
   "id": "5866dd3b-1dbd-4b3b-b8ba-b61aae2d71fa",
   "metadata": {},
   "outputs": [],
   "source": [
    "# import the necessary packages, we only need xcdat to open local data file\n",
    "import xcdat as xc\n",
    "\n",
    "# specify local data file\n",
    "# The example xcdat datasets can be downloaded from\n",
    "# https://github.com/xCDAT/xcdat-data\n",
    "filepath = \"../data/tas_Amon_ACCESS-ESM1-5_historical_r10i1p1f1_gn_185001-201412.nc\"\n",
    "\n",
    "# open dataset\n",
    "ds = xc.open_dataset(filepath).sel(time=slice(\"1980-01-01\", \"2005-01-01\"))\n",
    "\n",
    "# Unit adjust (-273.15, K to C)\n",
    "ds[\"tas\"] = ds.tas - 273.15"
   ]
  },
  {
   "cell_type": "code",
   "execution_count": null,
   "id": "c2aeb1cd-f058-4a77-a2e9-ecab0b2494ba",
   "metadata": {},
   "outputs": [],
   "source": [
    "# Import the installed pan3d explorer\n",
    "from pan3d.explorers.analytics import AnalyticsExplorer\n",
    "\n",
    "# Instantiate the explorer and wait until it finishes setting up\n",
    "explorer = AnalyticsExplorer(xarray=ds, server=\"esgf-slicer\")\n",
    "await explorer.ui.ready\n",
    "\n",
    "# Launch the interactive explorer within jypyter notebook\n",
    "explorer.ui"
   ]
  },
  {
   "cell_type": "code",
   "execution_count": null,
   "id": "9cc244a4-2f42-4fc9-b70a-2d31ca6af913",
   "metadata": {},
   "outputs": [],
   "source": [
    "explorer.ui.url"
   ]
  }
 ],
 "metadata": {
  "kernelspec": {
   "display_name": "Python 3 (ipykernel)",
   "language": "python",
   "name": "python3"
  },
  "language_info": {
   "codemirror_mode": {
    "name": "ipython",
    "version": 3
   },
   "file_extension": ".py",
   "mimetype": "text/x-python",
   "name": "python",
   "nbconvert_exporter": "python",
   "pygments_lexer": "ipython3",
   "version": "3.13.5"
  }
 },
 "nbformat": 4,
 "nbformat_minor": 5
}
