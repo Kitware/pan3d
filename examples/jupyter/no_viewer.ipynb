{
 "cells": [
  {
   "cell_type": "code",
   "execution_count": null,
   "id": "95a0f001-4821-4f47-8b0b-33fb739f127a",
   "metadata": {},
   "outputs": [],
   "source": [
    "from pan3d import DatasetBuilder\n",
    "import pyvista"
   ]
  },
  {
   "cell_type": "code",
   "execution_count": null,
   "id": "b43a2849-0942-48b8-94ba-ebf500935528",
   "metadata": {},
   "outputs": [],
   "source": [
    "# If you cannot install trame and use GeoTrame,\n",
    "# the Dataset Builder can be used alone to obtain data structures\n",
    "# and a corresponding mesh for rendering with PyVista\n",
    "\n",
    "builder = DatasetBuilder(dataset='https://ncsa.osn.xsede.org/Pangeo/pangeo-forge/gpcp-feedstock/gpcp.zarr')\n",
    "builder.data_array_name = 'precip'\n",
    "builder.t_index = 2"
   ]
  },
  {
   "cell_type": "code",
   "execution_count": null,
   "id": "8c78b40c-2010-4e08-ad09-5b38776ee181",
   "metadata": {},
   "outputs": [],
   "source": [
    "builder.dataset  # Returns an xarray.Dataset"
   ]
  },
  {
   "cell_type": "code",
   "execution_count": null,
   "id": "edd467a8-e3b1-47e1-a545-7bfe2d5195a1",
   "metadata": {},
   "outputs": [],
   "source": [
    "builder.data_array  # Returns an xarray.DataArray"
   ]
  },
  {
   "cell_type": "code",
   "execution_count": null,
   "id": "fe94e67c-c1a5-4077-8bd0-fd87cce33e77",
   "metadata": {},
   "outputs": [],
   "source": [
    "# Accessing the mesh will take longer; we need to fetch all the data\n",
    "mesh = builder.mesh  # Returns a pyvista.Mesh\n",
    "mesh"
   ]
  },
  {
   "cell_type": "code",
   "execution_count": null,
   "id": "7e889a97-4a72-4057-8adb-77e9ac5a4e87",
   "metadata": {},
   "outputs": [],
   "source": [
    "# Optional: mesh can be manipulated with PyVista methods\n",
    "mesh = mesh.warp_by_scalar()"
   ]
  },
  {
   "cell_type": "code",
   "execution_count": null,
   "id": "d47dc11d-bb5a-424f-b6d1-5b771d73acbe",
   "metadata": {},
   "outputs": [],
   "source": [
    "# Use PyVista Plotter to display mesh rendering\n",
    "plotter = pyvista.Plotter()\n",
    "plotter.add_mesh(mesh, cmap=\"jet\")\n",
    "plotter.view_isometric()\n",
    "plotter.show()"
   ]
  }
 ],
 "metadata": {
  "kernelspec": {
   "display_name": "pan3d",
   "language": "python",
   "name": "pan3d"
  },
  "language_info": {
   "codemirror_mode": {
    "name": "ipython",
    "version": 3
   },
   "file_extension": ".py",
   "mimetype": "text/x-python",
   "name": "python",
   "nbconvert_exporter": "python",
   "pygments_lexer": "ipython3",
   "version": "3.9.18"
  }
 },
 "nbformat": 4,
 "nbformat_minor": 5
}
