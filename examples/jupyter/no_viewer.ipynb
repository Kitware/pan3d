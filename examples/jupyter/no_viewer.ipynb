{
 "cells": [
  {
   "cell_type": "code",
   "execution_count": null,
   "id": "95a0f001-4821-4f47-8b0b-33fb739f127a",
   "metadata": {},
   "outputs": [],
   "source": [
    "import pyvista as pv\n",
    "\n",
    "from pan3d.xarray.algorithm import vtkXArrayRectilinearSource"
   ]
  },
  {
   "cell_type": "code",
   "execution_count": null,
   "id": "b43a2849-0942-48b8-94ba-ebf500935528",
   "metadata": {},
   "outputs": [],
   "source": [
    "source = vtkXArrayRectilinearSource()\n",
    "source.load(\n",
    "    {\n",
    "        \"data_origin\": {\n",
    "            \"source\": \"url\",\n",
    "            \"id\": \"https://ncsa.osn.xsede.org/Pangeo/pangeo-forge/gpcp-feedstock/gpcp.zarr\",\n",
    "        },\n",
    "        \"dataset_config\": {\n",
    "            \"arrays\": [\"precip\"],\n",
    "            \"t_index\": 2,\n",
    "        },\n",
    "    }\n",
    ")"
   ]
  },
  {
   "cell_type": "code",
   "execution_count": null,
   "id": "8c78b40c-2010-4e08-ad09-5b38776ee181",
   "metadata": {},
   "outputs": [],
   "source": [
    "# Returns an xarray.Dataset\n",
    "source.input"
   ]
  },
  {
   "cell_type": "code",
   "execution_count": null,
   "id": "edd467a8-e3b1-47e1-a545-7bfe2d5195a1",
   "metadata": {},
   "outputs": [],
   "source": [
    "# Return vtkDataSet\n",
    "source()"
   ]
  },
  {
   "cell_type": "code",
   "execution_count": null,
   "id": "7e889a97-4a72-4057-8adb-77e9ac5a4e87",
   "metadata": {},
   "outputs": [],
   "source": [
    "# Optional: convert to PyVista mesh\n",
    "mesh = pv.wrap(source())\n",
    "mesh = mesh.warp_by_scalar()"
   ]
  },
  {
   "cell_type": "code",
   "execution_count": null,
   "id": "d47dc11d-bb5a-424f-b6d1-5b771d73acbe",
   "metadata": {},
   "outputs": [],
   "source": [
    "# Use PyVista Plotter to display mesh rendering\n",
    "plotter = pv.Plotter()\n",
    "plotter.add_mesh(mesh, cmap=\"jet\")\n",
    "plotter.view_isometric()\n",
    "plotter.show()"
   ]
  },
  {
   "cell_type": "code",
   "execution_count": null,
   "id": "3df5c2b8-6e0b-41ca-bad7-d48c48970e32",
   "metadata": {},
   "outputs": [],
   "source": []
  }
 ],
 "metadata": {
  "kernelspec": {
   "display_name": "Python 3 (ipykernel)",
   "language": "python",
   "name": "python3"
  },
  "language_info": {
   "codemirror_mode": {
    "name": "ipython",
    "version": 3
   },
   "file_extension": ".py",
   "mimetype": "text/x-python",
   "name": "python",
   "nbconvert_exporter": "python",
   "pygments_lexer": "ipython3",
   "version": "3.10.15"
  }
 },
 "nbformat": 4,
 "nbformat_minor": 5
}
