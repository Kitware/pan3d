{
 "cells": [
  {
   "cell_type": "markdown",
   "id": "d3e629af-a060-4f1e-b821-34114a7694b2",
   "metadata": {},
   "source": [
    "## Load XArray data"
   ]
  },
  {
   "cell_type": "code",
   "execution_count": 1,
   "id": "0a67097d-b562-444a-8c2c-ea383d46fa48",
   "metadata": {},
   "outputs": [],
   "source": [
    "import xarray as xr\n",
    "\n",
    "ds = xr.tutorial.load_dataset(\"air_temperature\")"
   ]
  },
  {
   "cell_type": "markdown",
   "id": "2bb6f93d-0005-4734-9af1-3db0ace2533b",
   "metadata": {},
   "source": [
    "## Show data using Pan3d slicer"
   ]
  },
  {
   "cell_type": "code",
   "execution_count": 3,
   "id": "9a0c47e0-a635-4c95-8bac-382c4e9ab264",
   "metadata": {},
   "outputs": [
    {
     "data": {
      "application/vnd.jupyter.widget-view+json": {
       "model_id": "13609393ee3f4604984a3bb6b11ae634",
       "version_major": 2,
       "version_minor": 0
      },
      "text/plain": [
       "HTML(value='<iframe id=\"pan3d_accessor_1_trame__template_main\" src=\"http://localhost:65515/index.html?ui=main&…"
      ]
     },
     "metadata": {},
     "output_type": "display_data"
    }
   ],
   "source": [
    "ds.pan3d.globe"
   ]
  },
  {
   "cell_type": "markdown",
   "id": "4f65f61f-a4ff-4664-bfc4-3758603b7a1b",
   "metadata": {},
   "source": [
    "### Access to VTK source"
   ]
  },
  {
   "cell_type": "code",
   "execution_count": null,
   "id": "c848393f-0022-41c7-b82a-46789b9acc78",
   "metadata": {},
   "outputs": [],
   "source": [
    "print(\"Extents:\", ds.pan3d.globe.source.slice_extents)\n",
    "print(\"Slice:\", ds.pan3d.globe.source.slices)"
   ]
  },
  {
   "cell_type": "code",
   "execution_count": null,
   "id": "1d0b2248-047b-426b-8a9c-13f83d3915cd",
   "metadata": {},
   "outputs": [],
   "source": []
  }
 ],
 "metadata": {
  "kernelspec": {
   "display_name": "Python 3 (ipykernel)",
   "language": "python",
   "name": "python3"
  },
  "language_info": {
   "codemirror_mode": {
    "name": "ipython",
    "version": 3
   },
   "file_extension": ".py",
   "mimetype": "text/x-python",
   "name": "python",
   "nbconvert_exporter": "python",
   "pygments_lexer": "ipython3",
   "version": "3.10.15"
  }
 },
 "nbformat": 4,
 "nbformat_minor": 5
}
